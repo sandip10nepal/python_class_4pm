{
 "cells": [
  {
   "cell_type": "code",
   "execution_count": 2,
   "id": "4250991d",
   "metadata": {},
   "outputs": [
    {
     "name": "stdout",
     "output_type": "stream",
     "text": [
      "Hello World\n"
     ]
    }
   ],
   "source": [
    "class Hello:                       #class\n",
    "    print('Hello World')\n",
    "obj = Hello()                      #Object  "
   ]
  },
  {
   "cell_type": "code",
   "execution_count": 8,
   "id": "1bc8a53e",
   "metadata": {},
   "outputs": [
    {
     "name": "stdout",
     "output_type": "stream",
     "text": [
      "Hello World\n"
     ]
    }
   ],
   "source": [
    "class Hello:\n",
    "    def hello(self):\n",
    "        print('Hello World')\n",
    "obj = Hello()\n",
    "obj.hello()"
   ]
  },
  {
   "cell_type": "code",
   "execution_count": 7,
   "id": "acf7ae21",
   "metadata": {},
   "outputs": [
    {
     "name": "stdout",
     "output_type": "stream",
     "text": [
      "Hello World\n"
     ]
    }
   ],
   "source": [
    "class Hello:\n",
    "    @staticmethod\n",
    "    def hello():\n",
    "        print('Hello World')\n",
    "obj = Hello()\n",
    "obj.hello()"
   ]
  },
  {
   "cell_type": "code",
   "execution_count": 10,
   "id": "2a733ea4",
   "metadata": {},
   "outputs": [
    {
     "name": "stdout",
     "output_type": "stream",
     "text": [
      "Hello I am Ram. I am from Kathmandu. I am 18\n"
     ]
    }
   ],
   "source": [
    "class Info:\n",
    "    def __init__(self):\n",
    "        self.name = \"Sandip\"\n",
    "        self.age = 18\n",
    "        self.add = \"Kathmandu\"\n",
    "        \n",
    "    def info(self):\n",
    "        print(f\"Hello I am {self.name}. I am from {self.add}. I am {self.age}\")\n",
    "obj = Info()\n",
    "obj.info()\n",
    "    "
   ]
  },
  {
   "cell_type": "code",
   "execution_count": 13,
   "id": "3682922a",
   "metadata": {},
   "outputs": [
    {
     "name": "stdout",
     "output_type": "stream",
     "text": [
      "Enter name =sandip\n",
      "Enter age =18\n",
      "Enter address =Kathmandu\n",
      "Hello I am sandip. I am from Kathmandu. I am 18\n"
     ]
    }
   ],
   "source": [
    "class Info:\n",
    "    def __init__(self,name,age,add):\n",
    "        self.name = name\n",
    "        self.age = age\n",
    "        self.add = add\n",
    "        \n",
    "    def info(self):\n",
    "        print(f\"Hello I am {self.name}. I am from {self.add}. I am {self.age}\")\n",
    "\n",
    "name = input('Enter name =')\n",
    "age = int(input('Enter age ='))\n",
    "add = (input('Enter address ='))      \n",
    "        \n",
    "obj = Info(name,age,add)\n",
    "\n",
    "obj.info()\n",
    "    "
   ]
  },
  {
   "cell_type": "code",
   "execution_count": 15,
   "id": "150ad645",
   "metadata": {},
   "outputs": [
    {
     "name": "stdout",
     "output_type": "stream",
     "text": [
      "Enter name =Sandip\n",
      "Enter age =18\n",
      "Enter address =Kathmandu\n",
      "Hello I am Sandip. I am from Kathmandu. I am 18\n"
     ]
    }
   ],
   "source": [
    "class Info:\n",
    "    def __init__(self,name,age):\n",
    "        self.name = name\n",
    "        self.age = age\n",
    "        \n",
    "    def info(self,add):\n",
    "        print(f\"Hello I am {self.name}. I am from {add}. I am {self.age}\")\n",
    "\n",
    "name = input('Enter name =')\n",
    "age = int(input('Enter age ='))\n",
    "add = (input('Enter address ='))      \n",
    "        \n",
    "obj = Info(name,age)\n",
    "\n",
    "obj.info(add)\n",
    "    "
   ]
  },
  {
   "cell_type": "code",
   "execution_count": 20,
   "id": "b9b10f44",
   "metadata": {},
   "outputs": [
    {
     "name": "stdout",
     "output_type": "stream",
     "text": [
      "Enter name =Sanip\n",
      "Enter age =18\n",
      "Enter address =Kathmandu\n",
      "Hello I am Sanip. I am from Kathmandu. I am 18\n",
      "Sanip 18\n"
     ]
    }
   ],
   "source": [
    "class Info:\n",
    "    def __init__(self,name,age):\n",
    "        self.name = name\n",
    "        self.age = age\n",
    "        \n",
    "    def info(self,add):\n",
    "        print(f\"Hello I am {self.name}. I am from {add}. I am {self.age}\")\n",
    "    def data(self):\n",
    "        print(self.name, self.age)\n",
    "\n",
    "name = input('Enter name =')\n",
    "age = int(input('Enter age ='))\n",
    "add = input('Enter address =')      \n",
    "        \n",
    "obj = Info(name,age)\n",
    "\n",
    "obj.info(add)\n",
    "obj.data()   "
   ]
  },
  {
   "cell_type": "code",
   "execution_count": 26,
   "id": "6d3df9e5",
   "metadata": {},
   "outputs": [
    {
     "name": "stdout",
     "output_type": "stream",
     "text": [
      "<class '__main__.Info'>\n"
     ]
    }
   ],
   "source": [
    "class Info:\n",
    "    def __init__(self):\n",
    "        self.name = \"Sandip\"\n",
    "        self.age = 18\n",
    "        self.add = \"Kathmandu\"\n",
    "        \n",
    "    def __str__(self):\n",
    "        return self.name\n",
    "        \n",
    "\n",
    "obj = Info()\n",
    "print(type(obj))\n",
    "#print(obj + \"Shyam\")\n",
    "    "
   ]
  },
  {
   "cell_type": "code",
   "execution_count": 33,
   "id": "ec6373d4",
   "metadata": {},
   "outputs": [
    {
     "ename": "AttributeError",
     "evalue": "'Area' object has no attribute 'a'",
     "output_type": "error",
     "traceback": [
      "\u001b[0;31m---------------------------------------------------------------------------\u001b[0m",
      "\u001b[0;31mAttributeError\u001b[0m                            Traceback (most recent call last)",
      "Cell \u001b[0;32mIn[33], line 18\u001b[0m\n\u001b[1;32m     16\u001b[0m obj1 \u001b[38;5;241m=\u001b[39m Area(\u001b[38;5;241m10\u001b[39m,\u001b[38;5;241m5\u001b[39m)\n\u001b[1;32m     17\u001b[0m obj2\u001b[38;5;241m=\u001b[39m Volume(\u001b[38;5;241m10\u001b[39m,\u001b[38;5;241m5\u001b[39m,\u001b[38;5;241m2\u001b[39m)\n\u001b[0;32m---> 18\u001b[0m obj1\u001b[38;5;241m.\u001b[39marea()\n\u001b[1;32m     19\u001b[0m obj2\u001b[38;5;241m.\u001b[39mvolume()\n",
      "Cell \u001b[0;32mIn[33], line 6\u001b[0m, in \u001b[0;36mArea.area\u001b[0;34m(self)\u001b[0m\n\u001b[1;32m      5\u001b[0m \u001b[38;5;28;01mdef\u001b[39;00m \u001b[38;5;21marea\u001b[39m(\u001b[38;5;28mself\u001b[39m):\n\u001b[0;32m----> 6\u001b[0m     a \u001b[38;5;241m=\u001b[39m \u001b[38;5;28mself\u001b[39m\u001b[38;5;241m.\u001b[39ma\u001b[38;5;241m*\u001b[39m\u001b[38;5;28mself\u001b[39m\u001b[38;5;241m.\u001b[39mb\n\u001b[1;32m      7\u001b[0m     \u001b[38;5;28mprint\u001b[39m(a)\n",
      "\u001b[0;31mAttributeError\u001b[0m: 'Area' object has no attribute 'a'"
     ]
    }
   ],
   "source": [
    "class Area:\n",
    "    def __init__(self,l,b):\n",
    "        self.l = l\n",
    "        self.b = b\n",
    "    def area(self):\n",
    "        a = self.a*self.b\n",
    "        print(a)\n",
    "class Volume:\n",
    "    def __init__(self,l,b,h):\n",
    "        self.l = l\n",
    "        self.b = b\n",
    "        self.h = h\n",
    "    def volume(self):\n",
    "        v = self.a*self.b**self.h\n",
    "        print(v)\n",
    "obj1 = Area(10,5)\n",
    "obj2= Volume(10,5,2)\n",
    "obj1.area()\n",
    "obj2.volume()"
   ]
  },
  {
   "cell_type": "code",
   "execution_count": null,
   "id": "d71424d0",
   "metadata": {},
   "outputs": [],
   "source": []
  }
 ],
 "metadata": {
  "kernelspec": {
   "display_name": "Python 3 (ipykernel)",
   "language": "python",
   "name": "python3"
  },
  "language_info": {
   "codemirror_mode": {
    "name": "ipython",
    "version": 3
   },
   "file_extension": ".py",
   "mimetype": "text/x-python",
   "name": "python",
   "nbconvert_exporter": "python",
   "pygments_lexer": "ipython3",
   "version": "3.11.5"
  }
 },
 "nbformat": 4,
 "nbformat_minor": 5
}
