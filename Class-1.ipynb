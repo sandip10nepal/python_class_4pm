{
 "cells": [
  {
   "cell_type": "code",
   "execution_count": 4,
   "id": "75e6492f",
   "metadata": {},
   "outputs": [
    {
     "name": "stdout",
     "output_type": "stream",
     "text": [
      "10 10.5 Hello World True\n"
     ]
    }
   ],
   "source": [
    "a = 10\n",
    "b = 10.5\n",
    "c = 'Hello World'\n",
    "d = True \n",
    "print(a,b,c,d)"
   ]
  },
  {
   "cell_type": "code",
   "execution_count": 5,
   "id": "450225ab",
   "metadata": {},
   "outputs": [
    {
     "name": "stdout",
     "output_type": "stream",
     "text": [
      "<class 'int'>\n"
     ]
    }
   ],
   "source": [
    "print(type(a))"
   ]
  },
  {
   "cell_type": "code",
   "execution_count": 6,
   "id": "a9737698",
   "metadata": {},
   "outputs": [
    {
     "name": "stdout",
     "output_type": "stream",
     "text": [
      "<class 'float'>\n",
      "<class 'str'>\n",
      "<class 'bool'>\n"
     ]
    }
   ],
   "source": [
    "print(type(b))\n",
    "print(type(c))\n",
    "print(type(d))"
   ]
  },
  {
   "cell_type": "code",
   "execution_count": 7,
   "id": "ff96a6ec",
   "metadata": {},
   "outputs": [
    {
     "name": "stdout",
     "output_type": "stream",
     "text": [
      "120\n"
     ]
    }
   ],
   "source": [
    "a = 30\n",
    "b = 90\n",
    "c = 40\n",
    "c = a + b\n",
    "print(c)"
   ]
  },
  {
   "cell_type": "code",
   "execution_count": 13,
   "id": "71008303",
   "metadata": {},
   "outputs": [
    {
     "name": "stdout",
     "output_type": "stream",
     "text": [
      "5\n",
      "0\n",
      "2\n"
     ]
    }
   ],
   "source": [
    "print(a//b)\n",
    "print(b//a)     #float division(it gives rounded up value only) \n",
    "print(b%c)"
   ]
  },
  {
   "cell_type": "code",
   "execution_count": 11,
   "id": "913c3192",
   "metadata": {},
   "outputs": [
    {
     "name": "stdout",
     "output_type": "stream",
     "text": [
      "1024\n"
     ]
    }
   ],
   "source": [
    "a = 10\n",
    "b = 2\n",
    "print(b**a) #power"
   ]
  },
  {
   "cell_type": "code",
   "execution_count": 27,
   "id": "f814c4aa",
   "metadata": {},
   "outputs": [
    {
     "name": "stdout",
     "output_type": "stream",
     "text": [
      "Hello\tThere!!\n",
      "\n"
     ]
    }
   ],
   "source": [
    "a = \"Hello\\t\"\n",
    "b = \"There!!\\n\"\n",
    "print(a + b)"
   ]
  },
  {
   "cell_type": "code",
   "execution_count": 28,
   "id": "3a2ee673",
   "metadata": {},
   "outputs": [
    {
     "name": "stdout",
     "output_type": "stream",
     "text": [
      "Hello\tThere!!\n",
      "Hello\tThere!!\n",
      "Hello\tThere!!\n",
      "Hello\tThere!!\n",
      "\n"
     ]
    }
   ],
   "source": [
    "print(4*(a+b))"
   ]
  },
  {
   "cell_type": "code",
   "execution_count": 26,
   "id": "9b1bfb3b",
   "metadata": {},
   "outputs": [
    {
     "name": "stdout",
     "output_type": "stream",
     "text": [
      "1\n",
      "0\n",
      "2\n"
     ]
    }
   ],
   "source": [
    "a = True\n",
    "b = False\n",
    "c= True\n",
    "print(a+b)\n",
    "print(a*b)\n",
    "print(a+c)"
   ]
  },
  {
   "cell_type": "code",
   "execution_count": 33,
   "id": "f13e9c86",
   "metadata": {},
   "outputs": [
    {
     "name": "stdout",
     "output_type": "stream",
     "text": [
      "<class 'complex'>\n",
      "(5+8j)\n",
      "(-9+19j)\n",
      "(0.6176470588235294-0.029411764705882363j)\n",
      "(0.2847626759966401-0.15782904156038127j)\n"
     ]
    }
   ],
   "source": [
    "a = 2 + 3j            #j is a complex number\n",
    "print(type(a))\n",
    "b = 3 + 5j\n",
    "c = a + b\n",
    "print(a+b)\n",
    "print(a*b)\n",
    "print(a/b)\n",
    "print(c**(1/2))"
   ]
  },
  {
   "cell_type": "code",
   "execution_count": 3,
   "id": "1642b18d",
   "metadata": {},
   "outputs": [
    {
     "name": "stdout",
     "output_type": "stream",
     "text": [
      "Enter a Principle\t2345\n",
      "Enter Time\t65\n",
      "The total amount is  6.5\n"
     ]
    }
   ],
   "source": [
    "p = float(input(\"Enter a Principle\\t\"))\n",
    "t = float(input(\"Enter Time\\t\"))\n",
    "r = 10\n",
    "sia = p*t*r/100\n",
    "print(\"The total amount is \", sia)"
   ]
  },
  {
   "cell_type": "code",
   "execution_count": 4,
   "id": "8984cc3a",
   "metadata": {},
   "outputs": [],
   "source": [
    "#we can convert one data type to another data type by using int() , str(), float(), bool(), complex()"
   ]
  },
  {
   "cell_type": "code",
   "execution_count": null,
   "id": "cfa8ca04",
   "metadata": {},
   "outputs": [],
   "source": []
  }
 ],
 "metadata": {
  "kernelspec": {
   "display_name": "Python 3 (ipykernel)",
   "language": "python",
   "name": "python3"
  },
  "language_info": {
   "codemirror_mode": {
    "name": "ipython",
    "version": 3
   },
   "file_extension": ".py",
   "mimetype": "text/x-python",
   "name": "python",
   "nbconvert_exporter": "python",
   "pygments_lexer": "ipython3",
   "version": "3.11.5"
  }
 },
 "nbformat": 4,
 "nbformat_minor": 5
}
