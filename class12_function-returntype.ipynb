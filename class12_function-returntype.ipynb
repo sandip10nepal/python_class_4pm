{
 "cells": [
  {
   "cell_type": "code",
   "execution_count": 4,
   "id": "2ff96461",
   "metadata": {},
   "outputs": [
    {
     "name": "stdout",
     "output_type": "stream",
     "text": [
      "The area is =  50\n",
      "The volume =  100\n"
     ]
    }
   ],
   "source": [
    "def cal(l,b,h):\n",
    "    a = l*b\n",
    "    v = a*h\n",
    "    return a,v\n",
    "area,volume = cal(10,5,2)\n",
    "print(\"The area is = \",area)\n",
    "print(\"The volume = \",volume)"
   ]
  },
  {
   "cell_type": "code",
   "execution_count": null,
   "id": "62f9133c",
   "metadata": {},
   "outputs": [
    {
     "name": "stdout",
     "output_type": "stream",
     "text": [
      "Enter a =10\n",
      "Enter b =5\n",
      "Enter a operater(+,-,/,*):/\n",
      "2.0\n"
     ]
    }
   ],
   "source": [
    "a = int(input(\"Enter a =\"))\n",
    "b = int(input(\"Enter b =\"))\n",
    "o = (input(\"Enter a operater(+,-,/,*):\"))\n",
    "\n",
    "def add(a,b):\n",
    "    return a+b\n",
    "def sub(a,b):\n",
    "    return a-b\n",
    "def mul(a,b):\n",
    "    return a*b\n",
    "def div(a,b):\n",
    "    return a/b\n",
    "\n",
    "if(o==\"+\"):\n",
    "    print(add(a,b))\n",
    "elif(o==\"-\"):\n",
    "    print(sub(a,b))\n",
    "elif(o==\"/\"):\n",
    "    print(div(a,b))\n",
    "elif(o==\"*\"):\n",
    "    print(mul(a,b))\n",
    "else:\n",
    "    print('Enter a valid operator')\n",
    "          \n",
    "a = int(input(\"Enter a =\"))\n",
    "b = int(input(\"Enter b =\"))\n",
    "o = (input(\"Enter a operater(+,-,/,*):\"))\n"
   ]
  },
  {
   "cell_type": "markdown",
   "id": "dcb86c58",
   "metadata": {},
   "source": []
  },
  {
   "cell_type": "markdown",
   "id": "b9b187d2",
   "metadata": {},
   "source": [
    "# lambda function\n"
   ]
  },
  {
   "cell_type": "code",
   "execution_count": null,
   "id": "f79f289d",
   "metadata": {},
   "outputs": [],
   "source": [
    "# x = lambda <arguments>:<operations>\n",
    "\n",
    "\n"
   ]
  },
  {
   "cell_type": "code",
   "execution_count": 1,
   "id": "7468d50b",
   "metadata": {},
   "outputs": [
    {
     "name": "stdout",
     "output_type": "stream",
     "text": [
      "25\n"
     ]
    }
   ],
   "source": [
    "x = lambda a:a**2\n",
    "print(x(5))"
   ]
  },
  {
   "cell_type": "code",
   "execution_count": 2,
   "id": "f1412741",
   "metadata": {},
   "outputs": [
    {
     "name": "stdout",
     "output_type": "stream",
     "text": [
      "25\n"
     ]
    }
   ],
   "source": [
    "x = lambda l,b:l*b\n",
    "print(x(5,5))"
   ]
  },
  {
   "cell_type": "markdown",
   "id": "0f523ce6",
   "metadata": {},
   "source": [
    "# map() "
   ]
  },
  {
   "cell_type": "code",
   "execution_count": null,
   "id": "7333f48e",
   "metadata": {},
   "outputs": [],
   "source": [
    "map()\n",
    "list(map(lambda <argument>:<operation>,list))"
   ]
  },
  {
   "cell_type": "code",
   "execution_count": 4,
   "id": "350c71b2",
   "metadata": {},
   "outputs": [
    {
     "data": {
      "text/plain": [
       "[950.0, 1900.0, 3800.0, 47500.0, 57000.0]"
      ]
     },
     "execution_count": 4,
     "metadata": {},
     "output_type": "execute_result"
    }
   ],
   "source": [
    "a = [1000,2000,4000,50000,60000]\n",
    "list(map(lambda x:x*0.95, a))"
   ]
  },
  {
   "cell_type": "code",
   "execution_count": 5,
   "id": "72f3f994",
   "metadata": {},
   "outputs": [
    {
     "data": {
      "text/plain": [
       "['apple', 'ball', 'cat']"
      ]
     },
     "execution_count": 5,
     "metadata": {},
     "output_type": "execute_result"
    }
   ],
   "source": [
    "a = [\"Apple\",\"Ball\",\"Cat\"]\n",
    "list(map(lambda x:x.lower(),a))"
   ]
  },
  {
   "cell_type": "markdown",
   "id": "62bb7a06",
   "metadata": {},
   "source": [
    "# filter()"
   ]
  },
  {
   "cell_type": "code",
   "execution_count": 7,
   "id": "990e3edd",
   "metadata": {},
   "outputs": [],
   "source": [
    "#list(filter(lambda <argument>:<condition>,list))"
   ]
  },
  {
   "cell_type": "code",
   "execution_count": 8,
   "id": "347af78a",
   "metadata": {},
   "outputs": [
    {
     "data": {
      "text/plain": [
       "[50000, 60000]"
      ]
     },
     "execution_count": 8,
     "metadata": {},
     "output_type": "execute_result"
    }
   ],
   "source": [
    "a = [1000,2000,4000,50000,60000]\n",
    "list(filter(lambda x:x>5000, a))"
   ]
  },
  {
   "cell_type": "markdown",
   "id": "41baad28",
   "metadata": {},
   "source": [
    "\n",
    "# comprehension list"
   ]
  },
  {
   "cell_type": "code",
   "execution_count": 10,
   "id": "05fc2052",
   "metadata": {},
   "outputs": [
    {
     "name": "stdout",
     "output_type": "stream",
     "text": [
      "[1, 2, 3, 4, 5, 6, 7, 8, 9, 10, 11, 12, 13, 14, 15, 16, 17, 18, 19, 20]\n"
     ]
    }
   ],
   "source": [
    "a = [i for i in range(1,21)]\n",
    "print(a)"
   ]
  },
  {
   "cell_type": "code",
   "execution_count": 11,
   "id": "28e8ebe2",
   "metadata": {},
   "outputs": [
    {
     "name": "stdout",
     "output_type": "stream",
     "text": [
      "[1, 4, 9, 16, 25, 36, 49, 64, 81, 100, 121, 144, 169, 196, 225, 256, 289, 324, 361, 400]\n"
     ]
    }
   ],
   "source": [
    "a = [i**2 for i in range(1,21)]\n",
    "print(a)"
   ]
  },
  {
   "cell_type": "code",
   "execution_count": 12,
   "id": "442f95c0",
   "metadata": {},
   "outputs": [
    {
     "name": "stdout",
     "output_type": "stream",
     "text": [
      "Enter value10\n",
      "Enter value40\n",
      "Enter value70\n",
      "Enter value80\n",
      "Enter value90\n"
     ]
    },
    {
     "data": {
      "text/plain": [
       "[10, 40, 70, 80, 90]"
      ]
     },
     "execution_count": 12,
     "metadata": {},
     "output_type": "execute_result"
    }
   ],
   "source": [
    "a = [int(input(\"Enter value\")) for i in range(5)]\n",
    "a"
   ]
  },
  {
   "cell_type": "code",
   "execution_count": 13,
   "id": "ed9043b9",
   "metadata": {},
   "outputs": [
    {
     "name": "stdout",
     "output_type": "stream",
     "text": [
      "Enter name = Sandip\n",
      "Enter phone no9765567051\n",
      "Enter name = Surya\n",
      "Enter phone no9862966751\n"
     ]
    }
   ],
   "source": [
    "a = {input(\"Enter name = \"):input(\"Enter phone no\") for i in range(2)}"
   ]
  },
  {
   "cell_type": "code",
   "execution_count": 14,
   "id": "92c84eb4",
   "metadata": {},
   "outputs": [
    {
     "name": "stdout",
     "output_type": "stream",
     "text": [
      "{'Sandip': '9765567051', 'Surya': '9862966751'}\n"
     ]
    }
   ],
   "source": [
    "print(a)"
   ]
  },
  {
   "cell_type": "markdown",
   "id": "38fb073d",
   "metadata": {},
   "source": [
    "# Recursive function\n"
   ]
  },
  {
   "cell_type": "code",
   "execution_count": 1,
   "id": "f42bcff3",
   "metadata": {},
   "outputs": [
    {
     "name": "stdout",
     "output_type": "stream",
     "text": [
      "Hello world\n",
      "Enter y for more printy\n",
      "Hello world\n",
      "Enter y for more printy\n",
      "Hello world\n",
      "Enter y for more printy\n",
      "Hello world\n",
      "Enter y for more printy\n",
      "Hello world\n",
      "Enter y for more print\n"
     ]
    }
   ],
   "source": [
    "def hello():\n",
    "    print(\"Hello world\")\n",
    "    x = input(\"Enter y for more print\")\n",
    "    if x == \"y\":\n",
    "        hello()\n",
    "hello()"
   ]
  },
  {
   "cell_type": "markdown",
   "id": "75793bcf",
   "metadata": {},
   "source": [
    "# Math function"
   ]
  },
  {
   "cell_type": "code",
   "execution_count": 2,
   "id": "e5d40e6e",
   "metadata": {},
   "outputs": [
    {
     "name": "stdout",
     "output_type": "stream",
     "text": [
      "Enter radius = 7\n",
      "153.93804002589985\n"
     ]
    }
   ],
   "source": [
    "import math as m\n",
    "r = float(input('Enter radius = '))\n",
    "a = m.pi*m.pow(r,2)\n",
    "print(a)"
   ]
  },
  {
   "cell_type": "code",
   "execution_count": 1,
   "id": "4b55501d",
   "metadata": {},
   "outputs": [
    {
     "ename": "NameError",
     "evalue": "name 'm' is not defined",
     "output_type": "error",
     "traceback": [
      "\u001b[0;31m---------------------------------------------------------------------------\u001b[0m",
      "\u001b[0;31mNameError\u001b[0m                                 Traceback (most recent call last)",
      "Cell \u001b[0;32mIn[1], line 1\u001b[0m\n\u001b[0;32m----> 1\u001b[0m a \u001b[38;5;241m=\u001b[39m m\u001b[38;5;241m.\u001b[39msin(m\u001b[38;5;241m.\u001b[39mpi\u001b[38;5;241m/\u001b[39m\u001b[38;5;241m2\u001b[39m)\n",
      "\u001b[0;31mNameError\u001b[0m: name 'm' is not defined"
     ]
    }
   ],
   "source": [
    "import math as m\n",
    "a = m.sin(m.pi/2)"
   ]
  },
  {
   "cell_type": "code",
   "execution_count": null,
   "id": "413fa29d",
   "metadata": {},
   "outputs": [],
   "source": []
  }
 ],
 "metadata": {
  "kernelspec": {
   "display_name": "Python 3 (ipykernel)",
   "language": "python",
   "name": "python3"
  },
  "language_info": {
   "codemirror_mode": {
    "name": "ipython",
    "version": 3
   },
   "file_extension": ".py",
   "mimetype": "text/x-python",
   "name": "python",
   "nbconvert_exporter": "python",
   "pygments_lexer": "ipython3",
   "version": "3.11.5"
  }
 },
 "nbformat": 4,
 "nbformat_minor": 5
}
