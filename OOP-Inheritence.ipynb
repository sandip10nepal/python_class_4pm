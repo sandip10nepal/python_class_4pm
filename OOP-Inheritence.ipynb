{
 "cells": [
  {
   "cell_type": "code",
   "execution_count": 1,
   "id": "a277ef15",
   "metadata": {},
   "outputs": [],
   "source": [
    "# class <class_name1>:\n",
    "#     <operations>\n",
    "    \n",
    "# class <class_name2>(class_name1):\n",
    "#     <operations>\n",
    "    \n",
    "# obj = <class_name2>()\n",
    "    "
   ]
  },
  {
   "cell_type": "code",
   "execution_count": 3,
   "id": "d72e5656",
   "metadata": {},
   "outputs": [],
   "source": [
    "class A:\n",
    "    pass\n",
    "    \n",
    "class B(A):\n",
    "    pass\n",
    "    \n",
    "obj = B()\n",
    "    "
   ]
  },
  {
   "cell_type": "code",
   "execution_count": 7,
   "id": "7905d934",
   "metadata": {},
   "outputs": [
    {
     "name": "stdout",
     "output_type": "stream",
     "text": [
      "Hello World I am Ram. I am from Kathmandu. I am 18\n"
     ]
    }
   ],
   "source": [
    "class Data:\n",
    "    def __init__(self):\n",
    "        self.name = \"Ram\"\n",
    "        self.age = 18\n",
    "        self.add = \"Kathmandu\"\n",
    "    \n",
    "class Info(Data):\n",
    "    def info(self):\n",
    "        print(f\"Hello World I am {self.name}. I am from {self.add}. I am {self.age}\")\n",
    "    \n",
    "obj = Info()\n",
    "obj.info()\n",
    "    "
   ]
  },
  {
   "cell_type": "code",
   "execution_count": 11,
   "id": "c931891d",
   "metadata": {},
   "outputs": [
    {
     "name": "stdout",
     "output_type": "stream",
     "text": [
      "Hello World I am Ram. I am from Kathmandu. I am 18\n"
     ]
    }
   ],
   "source": [
    "class Data:\n",
    "    def __init__(self,name,age,add):\n",
    "        self.name = name \n",
    "        self.age = age\n",
    "        self.add = add\n",
    "    \n",
    "class Info(Data):\n",
    "    def info(self):\n",
    "        print(f\"Hello World I am {self.name}. I am from {self.add}. I am {self.age}\")\n",
    "    \n",
    "obj = Info(\"Ram\",18,\"Kathmandu\")\n",
    "obj.info()\n",
    "    "
   ]
  },
  {
   "cell_type": "code",
   "execution_count": 14,
   "id": "a9b36b3a",
   "metadata": {},
   "outputs": [
    {
     "name": "stdout",
     "output_type": "stream",
     "text": [
      "Hello World I am Ram. I am from Kathmandu. I am 18\n"
     ]
    }
   ],
   "source": [
    "class Data:\n",
    "    def __init__(self,age):\n",
    "        self.age = age    \n",
    "class Info(Data):\n",
    "    def __init__(self,name,add,age):\n",
    "        self.name = name \n",
    "        Data.__init__(self,age)\n",
    "        self.add = add\n",
    "    def info(self):\n",
    "        print(f\"Hello World I am {self.name}. I am from {self.add}. I am {self.age}\")\n",
    "    \n",
    "obj = Info(\"Ram\",\"Kathmandu\",18)\n",
    "obj.info()\n",
    "    "
   ]
  },
  {
   "cell_type": "markdown",
   "id": "d266940d",
   "metadata": {},
   "source": [
    "# Multi-level Inheritence\n"
   ]
  },
  {
   "cell_type": "code",
   "execution_count": 16,
   "id": "96ae6e0a",
   "metadata": {},
   "outputs": [],
   "source": [
    "class A:\n",
    "    pass\n",
    "class B(A):\n",
    "    pass\n",
    "class C(B):\n",
    "    pass\n",
    "\n",
    "obj = C()"
   ]
  },
  {
   "cell_type": "code",
   "execution_count": 21,
   "id": "ad0d2913",
   "metadata": {},
   "outputs": [
    {
     "name": "stdout",
     "output_type": "stream",
     "text": [
      "Hello World I am Ram. I am from Kathmandu. I am 18\n"
     ]
    }
   ],
   "source": [
    "class Address:\n",
    "    def __init__(self,add):\n",
    "        self.add = add\n",
    "        pass\n",
    "\n",
    "class Data:\n",
    "    def __init__(self,age):\n",
    "        self.age = age\n",
    "        pass\n",
    "        \n",
    "class Info(Data,Address):\n",
    "    def __init__(self,name,add,age):\n",
    "        self.name = name \n",
    "        Data.__init__(self,age)\n",
    "        Address.__init__(self,add)\n",
    "    def info(self):\n",
    "        print(f\"Hello World I am {self.name}. I am from {self.add}. I am {self.age}\")\n",
    "    \n",
    "obj = Info(\"Ram\",\"Kathmandu\",18)\n",
    "obj.info()"
   ]
  },
  {
   "cell_type": "markdown",
   "id": "387b0245",
   "metadata": {},
   "source": [
    "# Public, Protected and Private data\n"
   ]
  },
  {
   "cell_type": "code",
   "execution_count": 23,
   "id": "d1fda271",
   "metadata": {},
   "outputs": [
    {
     "ename": "AttributeError",
     "evalue": "'Info' object has no attribute 'add'",
     "output_type": "error",
     "traceback": [
      "\u001b[0;31m---------------------------------------------------------------------------\u001b[0m",
      "\u001b[0;31mAttributeError\u001b[0m                            Traceback (most recent call last)",
      "Cell \u001b[0;32mIn[23], line 12\u001b[0m\n\u001b[1;32m      9\u001b[0m         \u001b[38;5;28mprint\u001b[39m(\u001b[38;5;124mf\u001b[39m\u001b[38;5;124m\"\u001b[39m\u001b[38;5;124mHello World I am \u001b[39m\u001b[38;5;132;01m{\u001b[39;00m\u001b[38;5;28mself\u001b[39m\u001b[38;5;241m.\u001b[39mname\u001b[38;5;132;01m}\u001b[39;00m\u001b[38;5;124m. I am from \u001b[39m\u001b[38;5;132;01m{\u001b[39;00m\u001b[38;5;28mself\u001b[39m\u001b[38;5;241m.\u001b[39madd\u001b[38;5;132;01m}\u001b[39;00m\u001b[38;5;124m. I am \u001b[39m\u001b[38;5;132;01m{\u001b[39;00m\u001b[38;5;28mself\u001b[39m\u001b[38;5;241m.\u001b[39mage\u001b[38;5;132;01m}\u001b[39;00m\u001b[38;5;124m\"\u001b[39m)\n\u001b[1;32m     11\u001b[0m obj \u001b[38;5;241m=\u001b[39m Info()\n\u001b[0;32m---> 12\u001b[0m obj\u001b[38;5;241m.\u001b[39minfo()\n\u001b[1;32m     13\u001b[0m \u001b[38;5;28mprint\u001b[39m(obj\u001b[38;5;241m.\u001b[39mname)\n\u001b[1;32m     14\u001b[0m \u001b[38;5;28mprint\u001b[39m(obj\u001b[38;5;241m.\u001b[39m_age)\n",
      "Cell \u001b[0;32mIn[23], line 9\u001b[0m, in \u001b[0;36mInfo.info\u001b[0;34m(self)\u001b[0m\n\u001b[1;32m      8\u001b[0m \u001b[38;5;28;01mdef\u001b[39;00m \u001b[38;5;21minfo\u001b[39m(\u001b[38;5;28mself\u001b[39m):\n\u001b[0;32m----> 9\u001b[0m     \u001b[38;5;28mprint\u001b[39m(\u001b[38;5;124mf\u001b[39m\u001b[38;5;124m\"\u001b[39m\u001b[38;5;124mHello World I am \u001b[39m\u001b[38;5;132;01m{\u001b[39;00m\u001b[38;5;28mself\u001b[39m\u001b[38;5;241m.\u001b[39mname\u001b[38;5;132;01m}\u001b[39;00m\u001b[38;5;124m. I am from \u001b[39m\u001b[38;5;132;01m{\u001b[39;00m\u001b[38;5;28mself\u001b[39m\u001b[38;5;241m.\u001b[39madd\u001b[38;5;132;01m}\u001b[39;00m\u001b[38;5;124m. I am \u001b[39m\u001b[38;5;132;01m{\u001b[39;00m\u001b[38;5;28mself\u001b[39m\u001b[38;5;241m.\u001b[39mage\u001b[38;5;132;01m}\u001b[39;00m\u001b[38;5;124m\"\u001b[39m)\n",
      "\u001b[0;31mAttributeError\u001b[0m: 'Info' object has no attribute 'add'"
     ]
    }
   ],
   "source": [
    "class Data:\n",
    "    def __init__(self):\n",
    "        self.name = \"Ram\"        #->           #public members\n",
    "        self._age = 18           #->           #protected member\n",
    "        self.__add = \"Kathmandu\" #->           #private members\n",
    "    \n",
    "class Info(Data):\n",
    "    def info(self):\n",
    "        print(f\"Hello World I am {self.name}. I am from {self.add}. I am {self.age}\")\n",
    "    \n",
    "obj = Info()\n",
    "obj.info()\n",
    "print(obj.name)\n",
    "print(obj._age)\n",
    "print(obj._Data__add)"
   ]
  },
  {
   "cell_type": "code",
   "execution_count": null,
   "id": "3905250b",
   "metadata": {},
   "outputs": [],
   "source": []
  }
 ],
 "metadata": {
  "kernelspec": {
   "display_name": "Python 3 (ipykernel)",
   "language": "python",
   "name": "python3"
  },
  "language_info": {
   "codemirror_mode": {
    "name": "ipython",
    "version": 3
   },
   "file_extension": ".py",
   "mimetype": "text/x-python",
   "name": "python",
   "nbconvert_exporter": "python",
   "pygments_lexer": "ipython3",
   "version": "3.11.5"
  }
 },
 "nbformat": 4,
 "nbformat_minor": 5
}
