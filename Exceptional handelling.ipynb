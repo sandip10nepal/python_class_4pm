{
 "cells": [
  {
   "cell_type": "code",
   "execution_count": 1,
   "id": "7b6177a7",
   "metadata": {},
   "outputs": [
    {
     "name": "stdout",
     "output_type": "stream",
     "text": [
      "There is no such file!\n"
     ]
    }
   ],
   "source": [
    "try:\n",
    "    file = open('data.tsv', 'r')\n",
    "    file.close()\n",
    "except:\n",
    "    print(\"There is no such file!\")"
   ]
  },
  {
   "cell_type": "code",
   "execution_count": 2,
   "id": "82c25628",
   "metadata": {},
   "outputs": [
    {
     "name": "stdout",
     "output_type": "stream",
     "text": [
      "Enter age = ten\n",
      "The value should be int\n"
     ]
    }
   ],
   "source": [
    "try: \n",
    "    age = int(input(\"Enter age = \"))\n",
    "    print(age)\n",
    "except:\n",
    "    print(\"The value should be int\")"
   ]
  },
  {
   "cell_type": "code",
   "execution_count": 4,
   "id": "ecae7549",
   "metadata": {},
   "outputs": [
    {
     "name": "stdout",
     "output_type": "stream",
     "text": [
      "Enter a = 25\n",
      "Enter b = 5\n",
      "5.0\n"
     ]
    }
   ],
   "source": [
    " try:\n",
    "    a = int(input(\"Enter a = \"))\n",
    "    b = int(input(\"Enter b = \"))\n",
    "    c = a/b\n",
    "    print(c)\n",
    "except ValueError:\n",
    "    print(\"The value of a and b should be integer\")\n",
    "except ZeroDivisionError :\n",
    "    print(\"The value of b should not be zero\")"
   ]
  },
  {
   "cell_type": "code",
   "execution_count": 8,
   "id": "e192153e",
   "metadata": {},
   "outputs": [
    {
     "name": "stdout",
     "output_type": "stream",
     "text": [
      "Enter username: sasad\n",
      "Enter password: adf\n",
      "The username and password does not match\n"
     ]
    }
   ],
   "source": [
    "username1 = \"admin\"\n",
    "password1 = \"admin\"\n",
    "user = input(\"Enter username: \")\n",
    "pas = input(\"Enter password: \")\n",
    "\n",
    "try:\n",
    "    assert username1 == user\n",
    "    assert password == pas\n",
    "except:\n",
    "    print(\"The username and password does not match\")\n"
   ]
  },
  {
   "cell_type": "code",
   "execution_count": 9,
   "id": "1915851f",
   "metadata": {},
   "outputs": [
    {
     "ename": "AssertionError",
     "evalue": "",
     "output_type": "error",
     "traceback": [
      "\u001b[0;31m---------------------------------------------------------------------------\u001b[0m",
      "\u001b[0;31mAssertionError\u001b[0m                            Traceback (most recent call last)",
      "Cell \u001b[0;32mIn[9], line 2\u001b[0m\n\u001b[1;32m      1\u001b[0m a \u001b[38;5;241m=\u001b[39m \u001b[38;5;241m10\u001b[39m\n\u001b[0;32m----> 2\u001b[0m \u001b[38;5;28;01massert\u001b[39;00m a\u001b[38;5;241m>\u001b[39m\u001b[38;5;241m11\u001b[39m\n",
      "\u001b[0;31mAssertionError\u001b[0m: "
     ]
    }
   ],
   "source": [
    "a = 10\n",
    "assert a>11"
   ]
  },
  {
   "cell_type": "code",
   "execution_count": 10,
   "id": "9c498566",
   "metadata": {},
   "outputs": [
    {
     "name": "stdout",
     "output_type": "stream",
     "text": [
      "Enter a = 25\n",
      "Enter b = 5\n",
      "5.0\n",
      "5.0\n"
     ]
    }
   ],
   "source": [
    " try:\n",
    "    a = int(input(\"Enter a = \"))\n",
    "    b = int(input(\"Enter b = \"))\n",
    "    c = a/b\n",
    "except ValueError:\n",
    "    print(\"The value of a and b should be integer\")\n",
    "except ZeroDivisionError :\n",
    "    print(\"The value of b should not be zero\")\n",
    "else:\n",
    "    print(c)"
   ]
  },
  {
   "cell_type": "code",
   "execution_count": null,
   "id": "22ba3d94",
   "metadata": {},
   "outputs": [],
   "source": []
  }
 ],
 "metadata": {
  "kernelspec": {
   "display_name": "Python 3 (ipykernel)",
   "language": "python",
   "name": "python3"
  },
  "language_info": {
   "codemirror_mode": {
    "name": "ipython",
    "version": 3
   },
   "file_extension": ".py",
   "mimetype": "text/x-python",
   "name": "python",
   "nbconvert_exporter": "python",
   "pygments_lexer": "ipython3",
   "version": "3.11.5"
  }
 },
 "nbformat": 4,
 "nbformat_minor": 5
}
