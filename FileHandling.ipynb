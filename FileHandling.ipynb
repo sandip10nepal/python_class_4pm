{
 "cells": [
  {
   "cell_type": "code",
   "execution_count": 1,
   "id": "1b63971a",
   "metadata": {},
   "outputs": [],
   "source": [
    "# file = open(<file_name>,<mode>)\n",
    "# file.close()\n",
    "\n",
    "# with open(<file_name>,<mode>):\n",
    "#     <operations>\n",
    "\n",
    "# mode\n",
    "# read -> r\n",
    "# create -> x\n",
    "# write -> w\n",
    "# append -> a"
   ]
  },
  {
   "cell_type": "code",
   "execution_count": 4,
   "id": "f40fc586",
   "metadata": {},
   "outputs": [
    {
     "name": "stdout",
     "output_type": "stream",
     "text": [
      "The file is already there\n"
     ]
    }
   ],
   "source": [
    "try:\n",
    "    file = open('data.txt','x')\n",
    "    file.close()\n",
    "except:\n",
    "    print(\"The file is already there\")"
   ]
  },
  {
   "cell_type": "code",
   "execution_count": 3,
   "id": "d9793211",
   "metadata": {},
   "outputs": [
    {
     "name": "stdout",
     "output_type": "stream",
     "text": [
      "Hello I am sandip Nepal.\n",
      "I am 18 years old.\n",
      "I live in Kathmandu.\n",
      "My brothers name is Sandesh Nepal.\n",
      "My father name is Surya Nepal.\n",
      "My Mother name is Gyanu Maya Nepal.\n",
      "\n",
      "\n"
     ]
    }
   ],
   "source": [
    "file = open(\"data.txt\",\"r\")\n",
    "data = file.read()\n",
    "print(data)\n",
    "file.close()"
   ]
  },
  {
   "cell_type": "code",
   "execution_count": 5,
   "id": "c3303409",
   "metadata": {
    "scrolled": true
   },
   "outputs": [
    {
     "name": "stdout",
     "output_type": "stream",
     "text": [
      "Hello I am sandip Nepal.\n",
      "I am 18 years old.\n",
      "I live in Kathmandu.\n",
      "My brothers name is Sandesh Nepal.\n",
      "My father name is Surya Nepal.\n",
      "My Mother name is Gyanu Maya Nepal.\n",
      "\n",
      "\n"
     ]
    }
   ],
   "source": [
    "with open('data.txt',\"r\") as f:\n",
    "    print(f.read())\n"
   ]
  },
  {
   "cell_type": "code",
   "execution_count": 7,
   "id": "5198f45c",
   "metadata": {},
   "outputs": [
    {
     "name": "stdout",
     "output_type": "stream",
     "text": [
      "It already exists\n"
     ]
    }
   ],
   "source": [
    "try:\n",
    "    fi = open('data1.txt','x')\n",
    "    fi.close()\n",
    "except:\n",
    "    print(\"It already exists\")\n"
   ]
  },
  {
   "cell_type": "code",
   "execution_count": 10,
   "id": "de7dd0b0",
   "metadata": {},
   "outputs": [
    {
     "name": "stdout",
     "output_type": "stream",
     "text": [
      "Sn,name,age,add,phone\n",
      "1,Sandip,18,Kadaghari,9765567051\n",
      "2,Surya,40,Gothatar,9862966751\n",
      "3,Sandesh,12,Kathmandu,98000000\n",
      "4,Gyanu,40,Kadaghari,98676808597\n"
     ]
    }
   ],
   "source": [
    "fi= open(\"data1.txt\",\"r\")\n",
    "data = fi.read()\n",
    "print(data)\n",
    "fi.close()"
   ]
  },
  {
   "cell_type": "code",
   "execution_count": 12,
   "id": "0e04af71",
   "metadata": {},
   "outputs": [
    {
     "data": {
      "text/plain": [
       "['Sn,name,age,add,phone',\n",
       " '1,Sandip,18,Kadaghari,9765567051',\n",
       " '2,Surya,40,Gothatar,9862966751',\n",
       " '3,Sandesh,12,Kathmandu,98000000',\n",
       " '4,Gyanu,40,Kadaghari,98676808597']"
      ]
     },
     "execution_count": 12,
     "metadata": {},
     "output_type": "execute_result"
    }
   ],
   "source": [
    "data.split('\\n')"
   ]
  },
  {
   "cell_type": "code",
   "execution_count": 13,
   "id": "fafdd4f8",
   "metadata": {},
   "outputs": [
    {
     "name": "stdout",
     "output_type": "stream",
     "text": [
      "[['Sn', 'name', 'age', 'add', 'phone'], ['1', 'Sandip', '18', 'Kadaghari', '9765567051'], ['2', 'Surya', '40', 'Gothatar', '9862966751'], ['3', 'Sandesh', '12', 'Kathmandu', '98000000'], ['4', 'Gyanu', '40', 'Kadaghari', '98676808597']]\n"
     ]
    }
   ],
   "source": [
    "all_data = []\n",
    "x = data.split('\\n')\n",
    "for i in x:\n",
    "    all_data.append(i.split(','))\n",
    "print(all_data)"
   ]
  },
  {
   "cell_type": "code",
   "execution_count": 16,
   "id": "dead04a1",
   "metadata": {},
   "outputs": [],
   "source": [
    "file = open(\"data2.txt\",'w')\n",
    "file.write('Hello There!!')\n",
    "file.close()"
   ]
  },
  {
   "cell_type": "code",
   "execution_count": 17,
   "id": "9ce35bdb",
   "metadata": {},
   "outputs": [
    {
     "name": "stdout",
     "output_type": "stream",
     "text": [
      "Hello There!!\n"
     ]
    }
   ],
   "source": [
    "file = open(\"data2.txt\",'r')\n",
    "data = file.read()\n",
    "print(data)"
   ]
  },
  {
   "cell_type": "code",
   "execution_count": 18,
   "id": "0de9ce05",
   "metadata": {},
   "outputs": [
    {
     "name": "stdout",
     "output_type": "stream",
     "text": [
      "Enter the product Name = Chiya\n",
      "Enter the price = 30\n",
      "Enter the quantity = 4\n",
      "Do You have more Goods (y/n): y\n",
      "Enter the product Name = Samosa\n",
      "Enter the price = 25\n",
      "Enter the quantity = 10\n",
      "Do You have more Goods (y/n): y\n",
      "Enter the product Name = Pakoda\n",
      "Enter the price = 5\n",
      "Enter the quantity = 20\n",
      "Do You have more Goods (y/n): y\n",
      "Enter the product Name = Barfi\n",
      "Enter the price = 50\n",
      "Enter the quantity = 4\n",
      "Do You have more Goods (y/n): y\n",
      "Enter the product Name = Jeri\n",
      "Enter the price = 10\n",
      "Enter the quantity = 16\n",
      "Do You have more Goods (y/n): n\n",
      "Name\t Price\t Qty\t Total\t\n",
      "Chiya\t 30\t 4\t 120\n",
      "Samosa\t 25\t 10\t 250\n",
      "Pakoda\t 5\t 20\t 100\n",
      "Barfi\t 50\t 4\t 200\n",
      "Jeri\t 10\t 16\t 160\n",
      "Grand Total: 830\n"
     ]
    },
    {
     "ename": "TypeError",
     "evalue": "write() argument must be str, not list",
     "output_type": "error",
     "traceback": [
      "\u001b[0;31m---------------------------------------------------------------------------\u001b[0m",
      "\u001b[0;31mTypeError\u001b[0m                                 Traceback (most recent call last)",
      "Cell \u001b[0;32mIn[18], line 24\u001b[0m\n\u001b[1;32m     21\u001b[0m \u001b[38;5;28mprint\u001b[39m(\u001b[38;5;124mf\u001b[39m\u001b[38;5;124m\"\u001b[39m\u001b[38;5;124mGrand Total: \u001b[39m\u001b[38;5;132;01m{\u001b[39;00mgrand_total\u001b[38;5;132;01m}\u001b[39;00m\u001b[38;5;124m\"\u001b[39m)\n\u001b[1;32m     23\u001b[0m file \u001b[38;5;241m=\u001b[39m \u001b[38;5;28mopen\u001b[39m(\u001b[38;5;124m'\u001b[39m\u001b[38;5;124mbill.txt\u001b[39m\u001b[38;5;124m'\u001b[39m,\u001b[38;5;124m'\u001b[39m\u001b[38;5;124mw\u001b[39m\u001b[38;5;124m'\u001b[39m)\n\u001b[0;32m---> 24\u001b[0m file\u001b[38;5;241m.\u001b[39mwrite(total_items)\n\u001b[1;32m     25\u001b[0m file\u001b[38;5;241m.\u001b[39mclose()\n",
      "\u001b[0;31mTypeError\u001b[0m: write() argument must be str, not list"
     ]
    }
   ],
   "source": [
    "j = 0\n",
    "total_items = []\n",
    "\n",
    "while j < 1:\n",
    "    n = input(\"Enter the product Name = \")\n",
    "    p = int(input(\"Enter the price = \"))\n",
    "    q = int(input(\"Enter the quantity = \"))\n",
    "    t = p * q\n",
    "    total_items.append((n, p, q, t))  # Store the data for each item\n",
    "    i = input(\"Do You have more Goods (y/n): \")\n",
    "    if i.lower() == \"y\":\n",
    "        j = 0\n",
    "    else:\n",
    "        j += 1\n",
    "\n",
    "# Print the summary after the loop\n",
    "print(\"Name\\t Price\\t Qty\\t Total\\t\")\n",
    "for item in total_items:\n",
    "    print(f\"{item[0]}\\t {item[1]}\\t {item[2]}\\t {item[3]}\")\n",
    "grand_total = sum(item[3] for item in total_items)\n",
    "print(f\"Grand Total: {grand_total}\")\n",
    "\n",
    "file = open('bill.txt','w')\n",
    "file.write(total_items)\n",
    "file.close()"
   ]
  },
  {
   "cell_type": "code",
   "execution_count": 21,
   "id": "b387983c",
   "metadata": {},
   "outputs": [
    {
     "name": "stdout",
     "output_type": "stream",
     "text": [
      "Enter n = 2\n",
      "Enter the product Name = Pakoda\n",
      "Enter the price = 5\n",
      "Enter the quantity = 20\n",
      "Enter the product Name = Barfi\n",
      "Enter the price = 50\n",
      "Enter the quantity = 2\n"
     ]
    }
   ],
   "source": [
    "info = ''\n",
    "n = int(input('Enter n = '))\n",
    "for i in range(n):\n",
    "    name = input(\"Enter the product Name = \")\n",
    "    price = int(input(\"Enter the price = \"))\n",
    "    quantity = int(input(\"Enter the quantity = \"))\n",
    "    total = price * quantity\n",
    "    info = info + f\"{name},{price},{quantity},{total}\\n\"\n",
    "\n",
    "file = open('bill.csv', 'a')\n",
    "file.write(info)\n",
    "file.close()\n"
   ]
  },
  {
   "cell_type": "code",
   "execution_count": 1,
   "id": "782d582f",
   "metadata": {},
   "outputs": [
    {
     "data": {
      "text/plain": [
       "'/Users/sandipnepal/Class4pm_python'"
      ]
     },
     "execution_count": 1,
     "metadata": {},
     "output_type": "execute_result"
    }
   ],
   "source": [
    "pwd"
   ]
  },
  {
   "cell_type": "code",
   "execution_count": null,
   "id": "4fd5585a",
   "metadata": {},
   "outputs": [],
   "source": []
  }
 ],
 "metadata": {
  "kernelspec": {
   "display_name": "Python 3 (ipykernel)",
   "language": "python",
   "name": "python3"
  },
  "language_info": {
   "codemirror_mode": {
    "name": "ipython",
    "version": 3
   },
   "file_extension": ".py",
   "mimetype": "text/x-python",
   "name": "python",
   "nbconvert_exporter": "python",
   "pygments_lexer": "ipython3",
   "version": "3.11.5"
  }
 },
 "nbformat": 4,
 "nbformat_minor": 5
}
