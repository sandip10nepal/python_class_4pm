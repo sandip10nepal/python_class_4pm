{
 "cells": [
  {
   "cell_type": "code",
   "execution_count": 1,
   "id": "46cbf5c4",
   "metadata": {},
   "outputs": [],
   "source": [
    "# #python collection\n",
    "# list\n",
    "# tuple\n",
    "# dict\n",
    "# set"
   ]
  },
  {
   "cell_type": "code",
   "execution_count": 2,
   "id": "d7c26e77",
   "metadata": {},
   "outputs": [],
   "source": [
    "# List \n",
    "# -Indexing\n",
    "# -Ordered\n",
    "# -Multiple and duplicate data\n",
    "# -Mutable\n"
   ]
  },
  {
   "cell_type": "code",
   "execution_count": 4,
   "id": "f34cdf7a",
   "metadata": {},
   "outputs": [
    {
     "name": "stdout",
     "output_type": "stream",
     "text": [
      "<class 'list'>\n",
      "<class 'list'>\n"
     ]
    }
   ],
   "source": [
    "# l = list()\n",
    "l = [1,2,3,4,5,6,7,8,9,10]\n",
    "a = [\"Aplle\", \"Ball\", \"Cat\", \"Dog\",\"Fish\"]\n",
    "print(type(l))\n",
    "print(type(a))\n"
   ]
  },
  {
   "cell_type": "code",
   "execution_count": 6,
   "id": "62bdda3e",
   "metadata": {},
   "outputs": [
    {
     "name": "stdout",
     "output_type": "stream",
     "text": [
      "Aplle\n",
      "5\n"
     ]
    }
   ],
   "source": [
    "print(a[0])\n",
    "print(l[4])"
   ]
  },
  {
   "cell_type": "code",
   "execution_count": 11,
   "id": "0f92bb2a",
   "metadata": {},
   "outputs": [
    {
     "name": "stdout",
     "output_type": "stream",
     "text": [
      "['Cat', 'Dog']\n",
      "[4, 5, 6]\n"
     ]
    }
   ],
   "source": [
    "print(a[2:4])\n",
    "print(l[3:6])"
   ]
  },
  {
   "cell_type": "code",
   "execution_count": 12,
   "id": "d6db53ec",
   "metadata": {},
   "outputs": [
    {
     "name": "stdout",
     "output_type": "stream",
     "text": [
      "5\n",
      "10\n"
     ]
    }
   ],
   "source": [
    "print(len(a))\n",
    "print(len(l))"
   ]
  },
  {
   "cell_type": "code",
   "execution_count": 13,
   "id": "3e5c356c",
   "metadata": {},
   "outputs": [
    {
     "name": "stdout",
     "output_type": "stream",
     "text": [
      "['Aplle', 'Ball', 'Cat', 'Dog', 'Fish', 'Aplle', 'Ball', 'Cat', 'Dog', 'Fish']\n"
     ]
    }
   ],
   "source": [
    "print(a*2)"
   ]
  },
  {
   "cell_type": "code",
   "execution_count": 16,
   "id": "25871a96",
   "metadata": {},
   "outputs": [
    {
     "name": "stdout",
     "output_type": "stream",
     "text": [
      "Aplle\n",
      "Ball\n",
      "Cat\n",
      "Dog\n",
      "Fish\n"
     ]
    }
   ],
   "source": [
    "for i in a:\n",
    "    print(i)"
   ]
  },
  {
   "cell_type": "code",
   "execution_count": 17,
   "id": "f6825be5",
   "metadata": {},
   "outputs": [],
   "source": [
    "# append(), insert(), extend()\n",
    "a.append(\"Giraffe\")"
   ]
  },
  {
   "cell_type": "code",
   "execution_count": 18,
   "id": "e9d29e93",
   "metadata": {},
   "outputs": [
    {
     "name": "stdout",
     "output_type": "stream",
     "text": [
      "Aplle\n",
      "Ball\n",
      "Cat\n",
      "Dog\n",
      "Fish\n",
      "Giraffe\n"
     ]
    }
   ],
   "source": [
    "for i in a:\n",
    "    print(i)"
   ]
  },
  {
   "cell_type": "code",
   "execution_count": 19,
   "id": "e9b71015",
   "metadata": {},
   "outputs": [
    {
     "data": {
      "text/plain": [
       "['Aplle', 'Break', 'Ball', 'Cat', 'Dog', 'Fish', 'Giraffe']"
      ]
     },
     "execution_count": 19,
     "metadata": {},
     "output_type": "execute_result"
    }
   ],
   "source": [
    "#insert(){it is used to insert value in between lusr}\n",
    "a.insert(1,\"Break\")\n",
    "a\n"
   ]
  },
  {
   "cell_type": "code",
   "execution_count": 20,
   "id": "e802ca59",
   "metadata": {},
   "outputs": [
    {
     "data": {
      "text/plain": [
       "['Aplle',\n",
       " 'Break',\n",
       " 'Ball',\n",
       " 'Cat',\n",
       " 'Dog',\n",
       " 'Fish',\n",
       " 'Giraffe',\n",
       " 1,\n",
       " 2,\n",
       " 3,\n",
       " 4,\n",
       " 5,\n",
       " 6,\n",
       " 7,\n",
       " 8,\n",
       " 9,\n",
       " 10]"
      ]
     },
     "execution_count": 20,
     "metadata": {},
     "output_type": "execute_result"
    }
   ],
   "source": [
    "a.extend(l) {it is used to add two lists}\n",
    "a"
   ]
  },
  {
   "cell_type": "code",
   "execution_count": 25,
   "id": "709fafaf",
   "metadata": {},
   "outputs": [
    {
     "name": "stdout",
     "output_type": "stream",
     "text": [
      "Enter n =2\n",
      "Enter x =50\n",
      "Enter x =50\n",
      "[50, 50]\n",
      "100\n"
     ]
    }
   ],
   "source": [
    "n = int(input(\"Enter n =\"))\n",
    "l =[]\n",
    "for i in range(n):\n",
    "      x= int(input(\"Enter x =\"))\n",
    "      j.append(x)\n",
    "    \n",
    "print(l)\n",
    "print(sum(l))"
   ]
  },
  {
   "cell_type": "code",
   "execution_count": 5,
   "id": "fa55c0a1",
   "metadata": {},
   "outputs": [
    {
     "name": "stdout",
     "output_type": "stream",
     "text": [
      "[1, 2, 3, 4, 5, 6, 7, 8, 9, 10]\n",
      "[10, 9, 8, 7, 6, 5, 4, 3, 2, 1]\n",
      "10\n",
      "1\n",
      "55\n"
     ]
    }
   ],
   "source": [
    "l = [1,2,3,4,5,6,7,8,9,10]\n",
    "l.sort()\n",
    "print(l)\n",
    "l.reverse()\n",
    "print(l)\n",
    "print(max(l))\n",
    "print(min(l))\n",
    "print(sum(l))\n"
   ]
  },
  {
   "cell_type": "code",
   "execution_count": 8,
   "id": "ed382133",
   "metadata": {},
   "outputs": [
    {
     "name": "stdout",
     "output_type": "stream",
     "text": [
      "['Apple', 'Ball', 'Cat', 'Dog', 'Fish']\n",
      "['Fish', 'Dog', 'Cat', 'Ball', 'Apple']\n"
     ]
    }
   ],
   "source": [
    "a = [\"Ball\", \"Apple\", \"Cat\", \"Fish\",\"Dog\"]\n",
    "a.sort()\n",
    "print(a)\n",
    "a.reverse()\n",
    "print(a)"
   ]
  },
  {
   "cell_type": "code",
   "execution_count": 9,
   "id": "4077a0a1",
   "metadata": {},
   "outputs": [
    {
     "data": {
      "text/plain": [
       "'Fish'"
      ]
     },
     "execution_count": 9,
     "metadata": {},
     "output_type": "execute_result"
    }
   ],
   "source": [
    "a[0]"
   ]
  },
  {
   "cell_type": "code",
   "execution_count": 10,
   "id": "a8e83659",
   "metadata": {},
   "outputs": [
    {
     "name": "stdout",
     "output_type": "stream",
     "text": [
      "['fish', 'Dog', 'Cat', 'Ball', 'Apple']\n"
     ]
    }
   ],
   "source": [
    "a[0]='fish'\n",
    "print(a)"
   ]
  },
  {
   "cell_type": "code",
   "execution_count": 11,
   "id": "dcc1ccd8",
   "metadata": {},
   "outputs": [],
   "source": [
    "a.reverse()"
   ]
  },
  {
   "cell_type": "code",
   "execution_count": 12,
   "id": "8ee6cdd7",
   "metadata": {},
   "outputs": [
    {
     "data": {
      "text/plain": [
       "['Apple', 'Ball', 'Cat', 'Dog', 'fish']"
      ]
     },
     "execution_count": 12,
     "metadata": {},
     "output_type": "execute_result"
    }
   ],
   "source": [
    "a"
   ]
  },
  {
   "cell_type": "code",
   "execution_count": 13,
   "id": "4d58e6a2",
   "metadata": {},
   "outputs": [
    {
     "name": "stdout",
     "output_type": "stream",
     "text": [
      "['Apple', 'Ball', 'Cat', 'Dog']\n"
     ]
    }
   ],
   "source": [
    "del a[4]\n",
    "print(a)"
   ]
  },
  {
   "cell_type": "code",
   "execution_count": 15,
   "id": "764b1229",
   "metadata": {},
   "outputs": [
    {
     "name": "stdout",
     "output_type": "stream",
     "text": [
      "['Apple', 'Ball']\n"
     ]
    }
   ],
   "source": [
    "del a[2:4]\n",
    "print(a)"
   ]
  },
  {
   "cell_type": "code",
   "execution_count": 19,
   "id": "3ff2d42c",
   "metadata": {},
   "outputs": [
    {
     "name": "stdout",
     "output_type": "stream",
     "text": [
      "['Ball', 'Cat', 'Dog']\n",
      "Apple\n"
     ]
    }
   ],
   "source": [
    "#pop\n",
    "a = ['Apple', 'Ball', 'Cat', 'Dog']\n",
    "b = a.pop(0)\n",
    "print(a)\n",
    "print(b)"
   ]
  },
  {
   "cell_type": "code",
   "execution_count": null,
   "id": "b727af7e",
   "metadata": {},
   "outputs": [],
   "source": []
  }
 ],
 "metadata": {
  "kernelspec": {
   "display_name": "Python 3 (ipykernel)",
   "language": "python",
   "name": "python3"
  },
  "language_info": {
   "codemirror_mode": {
    "name": "ipython",
    "version": 3
   },
   "file_extension": ".py",
   "mimetype": "text/x-python",
   "name": "python",
   "nbconvert_exporter": "python",
   "pygments_lexer": "ipython3",
   "version": "3.11.5"
  }
 },
 "nbformat": 4,
 "nbformat_minor": 5
}
