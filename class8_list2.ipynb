{
 "cells": [
  {
   "cell_type": "code",
   "execution_count": 3,
   "id": "af0ee12a",
   "metadata": {},
   "outputs": [
    {
     "name": "stdout",
     "output_type": "stream",
     "text": [
      "Enter n=2\n",
      "Enter name =Sandip\n",
      "Enter age =18\n",
      "Enter address =Kathmandu\n",
      "Enter name =Sandesh\n",
      "Enter age =12\n",
      "Enter address =Kathmandu\n",
      "[['Sandip', 18, 'Kathmandu'], ['Sandesh', 12, 'Kathmandu']]\n"
     ]
    }
   ],
   "source": [
    "l = []\n",
    "n = int(input(\"Enter n=\"))\n",
    "for i in range(n):\n",
    "    name = input(\"Enter name =\")\n",
    "    age = int(input(\"Enter age =\"))\n",
    "    add =input(\"Enter address =\")\n",
    "    l.append([name,age,add])\n",
    "    \n",
    "print(l)"
   ]
  },
  {
   "cell_type": "code",
   "execution_count": 6,
   "id": "4df0487d",
   "metadata": {},
   "outputs": [
    {
     "name": "stdout",
     "output_type": "stream",
     "text": [
      "['Sandesh', 12, 'Kathmandu']\n",
      "Kathmandu\n"
     ]
    }
   ],
   "source": [
    "print(l[1])\n",
    "print(l[1][2])\n"
   ]
  },
  {
   "cell_type": "code",
   "execution_count": 10,
   "id": "a18688e9",
   "metadata": {},
   "outputs": [
    {
     "name": "stdout",
     "output_type": "stream",
     "text": [
      "[['Sandip', 18, 'Kathmandu'], ['Sandesh', 12, 'Kathmandu'], ['Surya', 40, 'Kathmahdu']]\n"
     ]
    }
   ],
   "source": [
    "l.append(['Surya',40,'Kathmahdu'])\n",
    "print(l)"
   ]
  },
  {
   "cell_type": "code",
   "execution_count": 13,
   "id": "1fc2de0c",
   "metadata": {},
   "outputs": [
    {
     "name": "stdout",
     "output_type": "stream",
     "text": [
      "Enter name = surya\n",
      "['Surya', 40, 'Kathmahdu']\n"
     ]
    }
   ],
   "source": [
    "#search\n",
    "a = [['Sandip', 18, 'Kathmandu'], \n",
    "     ['Sandesh', 12, 'Kathmandu'],\n",
    "     ['Surya', 40, 'Kathmahdu']]\n",
    "name = input(\"Enter name = \")\n",
    "for i in a:\n",
    "    if name.lower() in i[0].lower():\n",
    "        print(i)"
   ]
  },
  {
   "cell_type": "code",
   "execution_count": 12,
   "id": "5cffd527",
   "metadata": {},
   "outputs": [
    {
     "data": {
      "text/plain": [
       "[['Sandip', 18, 'Tampa'],\n",
       " ['Sandesh', 12, 'Kathmandu'],\n",
       " ['Surya', 40, 'Kathmahdu']]"
      ]
     },
     "execution_count": 12,
     "metadata": {},
     "output_type": "execute_result"
    }
   ],
   "source": [
    "a = [['Sandip', 18, 'Kathmandu'], \n",
    "     ['Sandesh', 12, 'Kathmandu'],\n",
    "     ['Surya', 40, 'Kathmahdu']]\n",
    "a[0][2] = \"Tampa\"\n",
    "a"
   ]
  },
  {
   "cell_type": "code",
   "execution_count": null,
   "id": "4914114b",
   "metadata": {},
   "outputs": [],
   "source": []
  }
 ],
 "metadata": {
  "kernelspec": {
   "display_name": "Python 3 (ipykernel)",
   "language": "python",
   "name": "python3"
  },
  "language_info": {
   "codemirror_mode": {
    "name": "ipython",
    "version": 3
   },
   "file_extension": ".py",
   "mimetype": "text/x-python",
   "name": "python",
   "nbconvert_exporter": "python",
   "pygments_lexer": "ipython3",
   "version": "3.11.5"
  }
 },
 "nbformat": 4,
 "nbformat_minor": 5
}
