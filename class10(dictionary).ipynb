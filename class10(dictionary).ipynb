{
 "cells": [
  {
   "cell_type": "code",
   "execution_count": 1,
   "id": "a7224e25",
   "metadata": {},
   "outputs": [],
   "source": [
    "# #dictonary\n",
    "# -index\n",
    "# -multiple and duplicate value\n",
    "# -ordered\n",
    "# -mutable\n"
   ]
  },
  {
   "cell_type": "code",
   "execution_count": 8,
   "id": "c125b24b",
   "metadata": {},
   "outputs": [
    {
     "name": "stdout",
     "output_type": "stream",
     "text": [
      "<class 'dict'>\n"
     ]
    }
   ],
   "source": [
    "# a = dict()\n",
    "a = {'a':'Apple','b':'Ball','c':'Cat','d':'Apple'}\n",
    "print(type(a))"
   ]
  },
  {
   "cell_type": "code",
   "execution_count": 9,
   "id": "d2a5dc4f",
   "metadata": {},
   "outputs": [
    {
     "data": {
      "text/plain": [
       "4"
      ]
     },
     "execution_count": 9,
     "metadata": {},
     "output_type": "execute_result"
    }
   ],
   "source": [
    "len(a)"
   ]
  },
  {
   "cell_type": "code",
   "execution_count": 11,
   "id": "851f83bc",
   "metadata": {},
   "outputs": [
    {
     "name": "stdout",
     "output_type": "stream",
     "text": [
      "Apple\n"
     ]
    }
   ],
   "source": [
    "print(a['d'])"
   ]
  },
  {
   "cell_type": "code",
   "execution_count": 12,
   "id": "aa6d593a",
   "metadata": {},
   "outputs": [
    {
     "name": "stdout",
     "output_type": "stream",
     "text": [
      "{'a': 'Apple', 'b': 'Ball', 'c': 'Cat', 'd': 'Apple'}\n"
     ]
    }
   ],
   "source": [
    "print(a)"
   ]
  },
  {
   "cell_type": "code",
   "execution_count": 13,
   "id": "dad03a82",
   "metadata": {},
   "outputs": [
    {
     "name": "stdout",
     "output_type": "stream",
     "text": [
      "{'a': 'Apple', 'b': 'Ball', 'c': 'Cat'}\n"
     ]
    }
   ],
   "source": [
    "z = {}\n",
    "z['a'] = 'Apple'\n",
    "z['b'] = 'Ball'\n",
    "z['c'] = 'Cat'\n",
    "print(z)"
   ]
  },
  {
   "cell_type": "code",
   "execution_count": 15,
   "id": "ca72d940",
   "metadata": {},
   "outputs": [
    {
     "name": "stdout",
     "output_type": "stream",
     "text": [
      "Enter n =2\n",
      "Enter name = Surya\n",
      "Enter phone = 9862966751\n",
      "Enter name = Sandip\n",
      "Enter phone = 9765567051\n",
      "{'Surya': 9862966751, 'Sandip': 9765567051}\n"
     ]
    }
   ],
   "source": [
    "info = {}\n",
    "n = int(input(\"Enter n =\"))\n",
    "for i in range(n):\n",
    "    name = input('Enter name = ')\n",
    "    phone = int(input(\"Enter phone = \"))\n",
    "    info[name] = phone\n",
    "    \n",
    "print(info)"
   ]
  },
  {
   "cell_type": "code",
   "execution_count": 16,
   "id": "52a00f72",
   "metadata": {},
   "outputs": [
    {
     "name": "stdout",
     "output_type": "stream",
     "text": [
      "Surya\n",
      "Sandip\n"
     ]
    }
   ],
   "source": [
    "for i in info:\n",
    "    print(i)"
   ]
  },
  {
   "cell_type": "code",
   "execution_count": 17,
   "id": "6fcb76d1",
   "metadata": {},
   "outputs": [
    {
     "name": "stdout",
     "output_type": "stream",
     "text": [
      "9862966751\n",
      "9765567051\n"
     ]
    }
   ],
   "source": [
    "for i in info.values():\n",
    "    print(i)\n",
    "    "
   ]
  },
  {
   "cell_type": "code",
   "execution_count": 18,
   "id": "a353aeae",
   "metadata": {},
   "outputs": [
    {
     "name": "stdout",
     "output_type": "stream",
     "text": [
      "('Surya', 9862966751)\n",
      "('Sandip', 9765567051)\n"
     ]
    }
   ],
   "source": [
    "for i in info.items():\n",
    "    print(i)"
   ]
  },
  {
   "cell_type": "code",
   "execution_count": 22,
   "id": "205148fb",
   "metadata": {},
   "outputs": [
    {
     "name": "stdout",
     "output_type": "stream",
     "text": [
      "{'Surya': 9862966751, 'Sandip': 9765567051}\n"
     ]
    }
   ],
   "source": [
    "d = (('Surya', 9862966751),('Sandip', 9765567051))\n",
    "d = dict(d)\n",
    "print(d)"
   ]
  },
  {
   "cell_type": "code",
   "execution_count": 28,
   "id": "f5a3fec0",
   "metadata": {},
   "outputs": [
    {
     "data": {
      "text/plain": [
       "{'Surya': 9862966751, 'Sandip': 9867808597}"
      ]
     },
     "execution_count": 28,
     "metadata": {},
     "output_type": "execute_result"
    }
   ],
   "source": [
    "info = {'Surya': 9862966751, 'Sandip': 9765567051}\n",
    "info['Sandip'] = 9867808597\n",
    "info"
   ]
  },
  {
   "cell_type": "code",
   "execution_count": 37,
   "id": "2bc26a41",
   "metadata": {},
   "outputs": [
    {
     "ename": "KeyError",
     "evalue": "'Sandip'",
     "output_type": "error",
     "traceback": [
      "\u001b[0;31m---------------------------------------------------------------------------\u001b[0m",
      "\u001b[0;31mKeyError\u001b[0m                                  Traceback (most recent call last)",
      "Cell \u001b[0;32mIn[37], line 1\u001b[0m\n\u001b[0;32m----> 1\u001b[0m inform \u001b[38;5;241m=\u001b[39m info\u001b[38;5;241m.\u001b[39mpop(\u001b[38;5;124m'\u001b[39m\u001b[38;5;124mSandip\u001b[39m\u001b[38;5;124m'\u001b[39m)\n\u001b[1;32m      2\u001b[0m \u001b[38;5;28mprint\u001b[39m(inform)\n",
      "\u001b[0;31mKeyError\u001b[0m: 'Sandip'"
     ]
    }
   ],
   "source": [
    "inform = info.pop('Sandip')\n",
    "print(inform)"
   ]
  },
  {
   "cell_type": "code",
   "execution_count": 36,
   "id": "29adb142",
   "metadata": {},
   "outputs": [
    {
     "ename": "KeyError",
     "evalue": "'Sandip'",
     "output_type": "error",
     "traceback": [
      "\u001b[0;31m---------------------------------------------------------------------------\u001b[0m",
      "\u001b[0;31mKeyError\u001b[0m                                  Traceback (most recent call last)",
      "Cell \u001b[0;32mIn[36], line 1\u001b[0m\n\u001b[0;32m----> 1\u001b[0m \u001b[38;5;28;01mdel\u001b[39;00m info[\u001b[38;5;124m'\u001b[39m\u001b[38;5;124mSandip\u001b[39m\u001b[38;5;124m'\u001b[39m]\n\u001b[1;32m      2\u001b[0m info\n",
      "\u001b[0;31mKeyError\u001b[0m: 'Sandip'"
     ]
    }
   ],
   "source": [
    "del info['Sandip']\n",
    "info"
   ]
  },
  {
   "cell_type": "code",
   "execution_count": 30,
   "id": "ddbdcb76",
   "metadata": {},
   "outputs": [],
   "source": [
    "infor = {'Sandip': 9765567051}"
   ]
  },
  {
   "cell_type": "code",
   "execution_count": 31,
   "id": "08a8bf3f",
   "metadata": {},
   "outputs": [],
   "source": [
    "#We cannot concatinate two dictionaries"
   ]
  },
  {
   "cell_type": "markdown",
   "id": "5351b01c",
   "metadata": {},
   "source": [
    "# list inside dictionary"
   ]
  },
  {
   "cell_type": "code",
   "execution_count": 39,
   "id": "41714eed",
   "metadata": {},
   "outputs": [
    {
     "name": "stdout",
     "output_type": "stream",
     "text": [
      "{'Name': ['Ram', 'Shyam', 'Hari'], 'Age': [34, 35, 36], 'Address': ['Kathmandu', 'Bhaktapur', 'Lalitpur']}\n"
     ]
    }
   ],
   "source": [
    "info = {'Name':['Ram','Shyam','Hari'],\n",
    "       'Age':[34,35,36],\n",
    "       'Address':['Kathmandu','Bhaktapur','Lalitpur']}\n",
    "print(info)"
   ]
  },
  {
   "cell_type": "markdown",
   "id": "a2cbcdcf",
   "metadata": {},
   "source": [
    "# Dictionary inside List\n"
   ]
  },
  {
   "cell_type": "code",
   "execution_count": 43,
   "id": "ec6cdf91",
   "metadata": {},
   "outputs": [
    {
     "name": "stdout",
     "output_type": "stream",
     "text": [
      "[{'name': 'Ram', 'age': 45, 'Address': 'kathmandu'}, {'name': 'Shyam', 'age': 46, 'Address': 'Bhaktapur'}, {'name': 'Hari', 'age': 47, 'Address': 'Bhaktapur'}]\n"
     ]
    }
   ],
   "source": [
    "info = [{'name':'Ram', 'age': 45, 'Address':'kathmandu'},{'name':'Shyam', 'age': 46, 'Address':'Bhaktapur'},{'name':'Hari', 'age': 47, 'Address':'Bhaktapur'}]\n",
    "print(info)"
   ]
  },
  {
   "cell_type": "code",
   "execution_count": 1,
   "id": "41c77823",
   "metadata": {},
   "outputs": [
    {
     "name": "stdout",
     "output_type": "stream",
     "text": [
      "Enter n = 3\n",
      "Enter name =Sandip\n",
      "Enter age =18\n",
      "Enter address =kathmandu\n",
      "Enter name =Sandesh\n",
      "Enter age =12\n",
      "Enter address =Kadaghari\n",
      "Enter name =Surya\n",
      "Enter age =45\n",
      "Enter address =Gothatar\n",
      "{'Name': ['Sandip', 'Sandesh', 'Surya'], 'age': [18, 12, 45], 'address': ['kathmandu', 'Kadaghari', 'Gothatar']}\n"
     ]
    }
   ],
   "source": [
    "\n",
    "b = {'Name':[], 'age':[], 'address':[]}\n",
    "n = int(input(\"Enter n = \"))\n",
    "\n",
    "for i in range(n):\n",
    "   name = input('Enter name =')\n",
    "   age = int(input('Enter age ='))\n",
    "   address = input('Enter address =')\n",
    "   b['Name'].append(name)\n",
    "   b['age'].append(age)\n",
    "   b['address'].append(address)\n",
    "    \n",
    "print(b)"
   ]
  },
  {
   "cell_type": "code",
   "execution_count": 3,
   "id": "89ced52b",
   "metadata": {},
   "outputs": [
    {
     "name": "stdout",
     "output_type": "stream",
     "text": [
      "Enter n = 2\n",
      "Enter name =Sandesh\n",
      "Enter age =12\n",
      "Enter address =Kadaghari\n",
      "Enter name =Surya\n",
      "Enter age =35\n",
      "Enter address =Kathmandu\n",
      "[{'name': 'Surya', 'age': 45, 'address': 'Gothatar'}, {'name': 'Surya', 'age': 45, 'address': 'Gothatar'}]\n"
     ]
    }
   ],
   "source": [
    "b = []\n",
    "a = {}\n",
    "n = int(input(\"Enter n = \"))\n",
    "\n",
    "for i in range(n):\n",
    "   a['name'] = input('Enter name =')\n",
    "   a['age'] = int(input('Enter age ='))\n",
    "   a['address'] = input('Enter address =')\n",
    "   d = {'name':name, 'age':age, 'address':address}\n",
    "   b.append(d)\n",
    "    \n",
    "print(b)"
   ]
  },
  {
   "cell_type": "code",
   "execution_count": 5,
   "id": "03bd2d39",
   "metadata": {},
   "outputs": [
    {
     "name": "stdout",
     "output_type": "stream",
     "text": [
      "{'name': 'Surya', 'age': 45, 'address': 'Gothatar'}\n"
     ]
    }
   ],
   "source": [
    "print(b[0])"
   ]
  },
  {
   "cell_type": "code",
   "execution_count": null,
   "id": "101a87e6",
   "metadata": {},
   "outputs": [],
   "source": []
  }
 ],
 "metadata": {
  "kernelspec": {
   "display_name": "Python 3 (ipykernel)",
   "language": "python",
   "name": "python3"
  },
  "language_info": {
   "codemirror_mode": {
    "name": "ipython",
    "version": 3
   },
   "file_extension": ".py",
   "mimetype": "text/x-python",
   "name": "python",
   "nbconvert_exporter": "python",
   "pygments_lexer": "ipython3",
   "version": "3.11.5"
  }
 },
 "nbformat": 4,
 "nbformat_minor": 5
}
