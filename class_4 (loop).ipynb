{
 "cells": [
  {
   "cell_type": "code",
   "execution_count": 1,
   "id": "ba36bf86",
   "metadata": {},
   "outputs": [],
   "source": [
    "#there arre two kinds of loop iin python, they are: for loop and while loop."
   ]
  },
  {
   "cell_type": "code",
   "execution_count": 2,
   "id": "168a1d0c",
   "metadata": {},
   "outputs": [],
   "source": [
    "# range(5)->0,1,2,3,4\n",
    "# range(1,5)->1,2,3,4\n",
    "# range(1,10,2)->1,3,5,7,9"
   ]
  },
  {
   "cell_type": "code",
   "execution_count": 4,
   "id": "1030acf2",
   "metadata": {},
   "outputs": [
    {
     "name": "stdout",
     "output_type": "stream",
     "text": [
      "0 What the hell\n",
      "1 What the hell\n",
      "2 What the hell\n",
      "3 What the hell\n",
      "4 What the hell\n"
     ]
    }
   ],
   "source": [
    "for i in range(5):\n",
    "    print(i,\"What the hell\")"
   ]
  },
  {
   "cell_type": "code",
   "execution_count": 5,
   "id": "823dded6",
   "metadata": {},
   "outputs": [
    {
     "name": "stdout",
     "output_type": "stream",
     "text": [
      "1 What the hell\n",
      "2 What the hell\n",
      "3 What the hell\n",
      "4 What the hell\n"
     ]
    }
   ],
   "source": [
    "for i in range(1,5):\n",
    "    print(i,\"What the hell\")"
   ]
  },
  {
   "cell_type": "code",
   "execution_count": 9,
   "id": "5c343953",
   "metadata": {},
   "outputs": [
    {
     "name": "stdout",
     "output_type": "stream",
     "text": [
      "1 What the hell\n",
      "3 What the hell\n",
      "5 What the hell\n",
      "7 What the hell\n",
      "9 What the hell\n",
      "11 What the hell\n",
      "13 What the hell\n"
     ]
    }
   ],
   "source": [
    "for i in range(1,15,2):\n",
    "    print(i,\"What the hell\")"
   ]
  },
  {
   "cell_type": "code",
   "execution_count": 14,
   "id": "459f7a40",
   "metadata": {},
   "outputs": [
    {
     "name": "stdout",
     "output_type": "stream",
     "text": [
      "Enter a number =6\n",
      "6 * 1 = 6\n",
      "6 * 2 = 12\n",
      "6 * 3 = 18\n",
      "6 * 4 = 24\n",
      "6 * 5 = 30\n",
      "6 * 6 = 36\n",
      "6 * 7 = 42\n",
      "6 * 8 = 48\n",
      "6 * 9 = 54\n",
      "6 * 10 = 60\n"
     ]
    }
   ],
   "source": [
    "n = int(input(\"Enter a number =\"))\n",
    "for i in range(1,11):\n",
    "    print(n,\"*\",i,\"=\",i*n)"
   ]
  },
  {
   "cell_type": "code",
   "execution_count": 15,
   "id": "f0ca5921",
   "metadata": {},
   "outputs": [
    {
     "name": "stdout",
     "output_type": "stream",
     "text": [
      "Enter n = 4\n",
      "Enter x = 0\n",
      "Enter x = 90\n",
      "Enter x = 45\n",
      "Enter x = 0\n",
      "135\n"
     ]
    }
   ],
   "source": [
    "s = 0\n",
    "n = int(input(\"Enter n = \"))\n",
    "for i in range(n):\n",
    "    x = int(input(\"Enter x = \"))\n",
    "    s=s+x\n",
    "    \n",
    "print(s)"
   ]
  },
  {
   "cell_type": "code",
   "execution_count": 24,
   "id": "007ab1d3",
   "metadata": {},
   "outputs": [
    {
     "name": "stdout",
     "output_type": "stream",
     "text": [
      "Enter n = 3\n",
      "Enter name = Ram\n",
      "Enter phone number:984353535\n",
      "Enter name = Shyam\n",
      "Enter phone number:98353535\n",
      "Enter name = Hari\n",
      "Enter phone number:987343543\n",
      "Ram 984353535\n",
      "Shyam 98353535\n",
      "Hari 987343543\n",
      "\n"
     ]
    }
   ],
   "source": [
    "s = str()\n",
    "n = int(input(\"Enter n = \"))\n",
    "for i in range(n):\n",
    "    x = (input(\"Enter name = \"))\n",
    "    p = (input(\"Enter phone number:\"))\n",
    "    s = s + x + \" \" + p +\"\\n\"\n",
    "    \n",
    "print(s)"
   ]
  },
  {
   "cell_type": "code",
   "execution_count": 48,
   "id": "135fc215",
   "metadata": {},
   "outputs": [
    {
     "name": "stdout",
     "output_type": "stream",
     "text": [
      "Enter a number4\n",
      "3\n",
      "2\n",
      "1\n",
      "0\n",
      "24"
     ]
    }
   ],
   "source": [
    "n = int(input(\"Enter a number\"))\n",
    "f=1\n",
    "for j in range(1,n+1):\n",
    "    f=f*n\n",
    "    n-=1\n",
    "    print(n)\n",
    "print(\"f\")"
   ]
  },
  {
   "cell_type": "code",
   "execution_count": null,
   "id": "c26c091f",
   "metadata": {},
   "outputs": [],
   "source": [
    "#loop in string\n"
   ]
  },
  {
   "cell_type": "code",
   "execution_count": 46,
   "id": "89566245",
   "metadata": {},
   "outputs": [
    {
     "name": "stdout",
     "output_type": "stream",
     "text": [
      "P Hello World\n",
      "y Hello World\n",
      "t Hello World\n",
      "h Hello World\n",
      "o Hello World\n",
      "n Hello World\n"
     ]
    }
   ],
   "source": [
    "a = \"Python\"\n",
    "for i in a:\n",
    "    print(i,\"Hello World\")"
   ]
  },
  {
   "cell_type": "code",
   "execution_count": 49,
   "id": "abbafb51",
   "metadata": {},
   "outputs": [
    {
     "name": "stdout",
     "output_type": "stream",
     "text": [
      "H    e    l    l    o         W    o    r    l    d         I         a    m         P    y    t    h    o    n    "
     ]
    }
   ],
   "source": [
    "a = \"Hello World I am Python\"\n",
    "for i in a:\n",
    "    print(i, end = \"    \")"
   ]
  },
  {
   "cell_type": "code",
   "execution_count": null,
   "id": "99adfb68",
   "metadata": {},
   "outputs": [],
   "source": []
  }
 ],
 "metadata": {
  "kernelspec": {
   "display_name": "Python 3 (ipykernel)",
   "language": "python",
   "name": "python3"
  },
  "language_info": {
   "codemirror_mode": {
    "name": "ipython",
    "version": 3
   },
   "file_extension": ".py",
   "mimetype": "text/x-python",
   "name": "python",
   "nbconvert_exporter": "python",
   "pygments_lexer": "ipython3",
   "version": "3.11.5"
  }
 },
 "nbformat": 4,
 "nbformat_minor": 5
}
