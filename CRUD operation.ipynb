{
 "cells": [
  {
   "cell_type": "code",
   "execution_count": 1,
   "id": "a7348cb4",
   "metadata": {},
   "outputs": [
    {
     "name": "stdout",
     "output_type": "stream",
     "text": [
      "Collecting mysql-connector\n",
      "  Downloading mysql-connector-2.2.9.tar.gz (11.9 MB)\n",
      "\u001b[2K     \u001b[90m━━━━━━━━━━━━━━━━━━━━━━━━━━━━━━━━━━━━━━━\u001b[0m \u001b[32m11.9/11.9 MB\u001b[0m \u001b[31m368.1 kB/s\u001b[0m eta \u001b[36m0:00:00\u001b[0m00:01\u001b[0m00:01\u001b[0m\n",
      "\u001b[?25h  Preparing metadata (setup.py) ... \u001b[?25ldone\n",
      "\u001b[?25hBuilding wheels for collected packages: mysql-connector\n",
      "  Building wheel for mysql-connector (setup.py) ... \u001b[?25ldone\n",
      "\u001b[?25h  Created wheel for mysql-connector: filename=mysql_connector-2.2.9-cp311-cp311-macosx_11_0_arm64.whl size=247957 sha256=4e0c0ad6b6e1049afe782cc7dafccad73bf2dd29ca2e37a2f1abd642a69d67c5\n",
      "  Stored in directory: /Users/sandipnepal/Library/Caches/pip/wheels/17/cd/ed/2d49e9bac69cf09382e4c7cc20a2511202b48324b87db26019\n",
      "Successfully built mysql-connector\n",
      "Installing collected packages: mysql-connector\n",
      "Successfully installed mysql-connector-2.2.9\n"
     ]
    }
   ],
   "source": [
    "!pip install mysql-connector\n"
   ]
  },
  {
   "cell_type": "code",
   "execution_count": 6,
   "id": "3c17fdcc",
   "metadata": {},
   "outputs": [],
   "source": [
    "import mysql.connector\n",
    "#importing database\n",
    "database = mysql.connector.connect(\n",
    "host=\"localhost\",\n",
    "user= 'root',\n",
    "password='',\n",
    "database = 'pyhon4pm'\n",
    ")\n",
    "db = database.cursor()\n"
   ]
  },
  {
   "cell_type": "code",
   "execution_count": 8,
   "id": "252fc7be",
   "metadata": {},
   "outputs": [
    {
     "name": "stdout",
     "output_type": "stream",
     "text": [
      "[(1, 'Sandip Nepal', 100, 100, 100, 100, 100, 100, 100, 100.0, 'A+'), (2, 'Sandesh Nepal', 100, 100, 100, 100, 100, 100, 100, 100.0, 'A+'), (3, 'Surya Nepal', 100, 100, 100, 100, 100, 100, 100, 100.0, 'A+'), (4, 'Gyanu Maya Nepal(Lamsal)', 100, 100, 100, 100, 100, 100, 100, 100.0, 'A+'), (5, 'Nischal Adhikari', 100, 100, 100, 100, 100, 100, 100, 100.0, 'A+'), (6, 'Kushal Adhikari', 100, 100, 100, 100, 100, 100, 100, 100.0, 'A+'), (7, 'Simon Adhikari', 100, 100, 100, 100, 100, 100, 100, 100.0, 'A+'), (8, 'Aayush Nepal', 100, 100, 100, 100, 100, 100, 100, 100.0, 'A+'), (9, 'Aayushma Nepal', 100, 100, 100, 100, 100, 100, 100, 100.0, 'A+'), (10, 'Yunisha Adhikari', 100, 100, 100, 100, 100, 100, 100, 100.0, 'A+')]\n"
     ]
    }
   ],
   "source": [
    "#read data frim database\n",
    "sql ='select * from student'\n",
    "db.execute(sql)\n",
    "result= db.fetchall()\n",
    "print(result)"
   ]
  },
  {
   "cell_type": "code",
   "execution_count": 9,
   "id": "eeb833d8",
   "metadata": {},
   "outputs": [
    {
     "name": "stdout",
     "output_type": "stream",
     "text": [
      "[(1, 'Sandip Nepal', 'A+'), (2, 'Sandesh Nepal', 'A+'), (3, 'Surya Nepal', 'A+'), (4, 'Gyanu Maya Nepal(Lamsal)', 'A+'), (5, 'Nischal Adhikari', 'A+'), (6, 'Kushal Adhikari', 'A+'), (7, 'Simon Adhikari', 'A+'), (8, 'Aayush Nepal', 'A+'), (9, 'Aayushma Nepal', 'A+'), (10, 'Yunisha Adhikari', 'A+')]\n"
     ]
    }
   ],
   "source": [
    "sql ='select SN,Name,Grade from student'\n",
    "db.execute(sql)\n",
    "result= db.fetchall()\n",
    "print(result)"
   ]
  },
  {
   "cell_type": "code",
   "execution_count": 11,
   "id": "c41369a0",
   "metadata": {},
   "outputs": [
    {
     "name": "stdout",
     "output_type": "stream",
     "text": [
      "[(1, 'Sandip Nepal', 100, 100, 100, 100, 100, 100, 100, 100.0, 'A+'), (2, 'Sandesh Nepal', 100, 100, 100, 100, 100, 100, 100, 100.0, 'A+'), (3, 'Surya Nepal', 100, 100, 100, 100, 100, 100, 100, 100.0, 'A+'), (4, 'Gyanu Maya Nepal(Lamsal)', 100, 100, 100, 100, 100, 100, 100, 100.0, 'A+'), (5, 'Nischal Adhikari', 100, 100, 100, 100, 100, 100, 100, 100.0, 'A+'), (6, 'Kushal Adhikari', 100, 100, 100, 100, 100, 100, 100, 100.0, 'A+'), (7, 'Simon Adhikari', 100, 100, 100, 100, 100, 100, 100, 100.0, 'A+'), (8, 'Aayush Nepal', 100, 100, 100, 100, 100, 100, 100, 100.0, 'A+'), (9, 'Aayushma Nepal', 100, 100, 100, 100, 100, 100, 100, 100.0, 'A+'), (10, 'Yunisha Adhikari', 100, 100, 100, 100, 100, 100, 100, 100.0, 'A+')]\n"
     ]
    }
   ],
   "source": [
    "sql ='select * from student where grade = \"A+\" '\n",
    "db.execute(sql)\n",
    "result= db.fetchall()\n",
    "print(result)"
   ]
  },
  {
   "cell_type": "code",
   "execution_count": 12,
   "id": "b26a4d15",
   "metadata": {},
   "outputs": [],
   "source": [
    "# insert in database\n",
    "sql = ''' INSERT INTO `student` (`Name`, `Physics`, `Chemistry`, `Mathematics`, `Computer Science`, `English`, `Nepali`, `Total`, `Percentege`, `Grade`) VALUES ('Sushant Nepal', '100', '100', '100', '100', '100', '100', '100', '100', 'A+');'''\n",
    "db.execute(sql)\n",
    "database.commit()"
   ]
  },
  {
   "cell_type": "markdown",
   "id": "51376b0d",
   "metadata": {},
   "source": [
    "# HW// Write a program to take input from user and insert it into database"
   ]
  },
  {
   "cell_type": "code",
   "execution_count": 3,
   "id": "f58f61b2",
   "metadata": {},
   "outputs": [
    {
     "name": "stdout",
     "output_type": "stream",
     "text": [
      "Enter the product Name = Barfi\n",
      "Enter the price = 50\n",
      "Enter the quantity = 5\n",
      "Do You have more Goods (y/n): n\n",
      "data entry sucessfull!!\n"
     ]
    }
   ],
   "source": [
    "import mysql.connector\n",
    "#importing database\n",
    "database = mysql.connector.connect(\n",
    "host=\"localhost\",\n",
    "user= 'root',\n",
    "password='',\n",
    "database = 'pyhon4pm'\n",
    ")\n",
    "db = database.cursor()\n",
    "j=0\n",
    "while j < 1:\n",
    "    n = input(\"Enter the product Name = \")\n",
    "    p = int(input(\"Enter the price = \"))\n",
    "    q = int(input(\"Enter the quantity = \"))\n",
    "    t = p * q\n",
    "    db.execute('''\n",
    "    INSERT INTO Sales (item_name, rate, quantity, total)\n",
    "    VALUES (%s, %s, %s, %s)\n",
    "''', (n, p, q, t))  # Store the data for each item\n",
    "    database.commit()\n",
    "    i = input(\"Do You have more Goods (y/n): \")\n",
    "    if i.lower() == \"y\":\n",
    "        j = 0\n",
    "    else:\n",
    "        j += 1\n",
    "        \n",
    "print('data entry sucessfull!!')"
   ]
  },
  {
   "cell_type": "code",
   "execution_count": 2,
   "id": "622c3504",
   "metadata": {},
   "outputs": [
    {
     "name": "stdout",
     "output_type": "stream",
     "text": [
      "Enter the Name = Hari\n",
      "Enter the marks in physics = 89\n",
      "Enter the marks in chemistry = 78\n",
      "Enter the marks in math = 78\n",
      "Enter the marks in computer = 57\n",
      "Enter the marks in english = 78\n",
      "Enter the marks in nepali = 768\n",
      "Do you have more data to enter? (y/n): n\n",
      "Data entry successful!!\n"
     ]
    }
   ],
   "source": [
    "import mysql.connector\n",
    "\n",
    "# Importing database\n",
    "database = mysql.connector.connect(\n",
    "    host=\"localhost\",\n",
    "    user='root',\n",
    "    password='',\n",
    "    database='pyhon4pm'\n",
    ")\n",
    "\n",
    "db = database.cursor()\n",
    "\n",
    "j = 0\n",
    "\n",
    "while j < 1:\n",
    "    n = input(\"Enter the Name = \")\n",
    "    p = int(input(\"Enter the marks in physics = \"))\n",
    "    c = int(input(\"Enter the marks in chemistry = \"))\n",
    "    m = int(input(\"Enter the marks in math = \"))\n",
    "    cs = int(input(\"Enter the marks in computer = \"))\n",
    "    e = int(input(\"Enter the marks in english = \"))\n",
    "    nep = int(input(\"Enter the marks in nepali = \"))\n",
    "    t = p + c + m + cs + e + nep\n",
    "    per = t / 6\n",
    "    if per >= 80:\n",
    "        g = \"A\"\n",
    "    elif p >= 60:\n",
    "        g = \"B\"\n",
    "    elif p >= 40:\n",
    "        g = \"C\"\n",
    "    else:\n",
    "        g = \"D\"\n",
    "    db.execute('''\n",
    "    INSERT INTO student (Name, Physics, Chemistry, Mathematics, Computer_Science, English, Nepali, Total, Percentege, Grade)\n",
    "    VALUES (%s, %s, %s, %s, %s, %s, %s, %s, %s, %s)\n",
    "''', (n, p, c, m, cs, e, nep, t, per, g))  # Store the data for each item\n",
    "    database.commit()\n",
    "    i = input(\"Do you have more data to enter? (y/n): \")\n",
    "    if i.lower() == \"y\":\n",
    "        j = 0\n",
    "    else:\n",
    "        j += 1\n",
    "\n",
    "print('Data entry successful!!')\n"
   ]
  },
  {
   "cell_type": "code",
   "execution_count": null,
   "id": "2bcb3872",
   "metadata": {},
   "outputs": [],
   "source": []
  }
 ],
 "metadata": {
  "kernelspec": {
   "display_name": "Python 3 (ipykernel)",
   "language": "python",
   "name": "python3"
  },
  "language_info": {
   "codemirror_mode": {
    "name": "ipython",
    "version": 3
   },
   "file_extension": ".py",
   "mimetype": "text/x-python",
   "name": "python",
   "nbconvert_exporter": "python",
   "pygments_lexer": "ipython3",
   "version": "3.11.5"
  }
 },
 "nbformat": 4,
 "nbformat_minor": 5
}
