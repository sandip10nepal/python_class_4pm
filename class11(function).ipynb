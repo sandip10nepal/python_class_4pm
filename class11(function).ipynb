{
 "cells": [
  {
   "cell_type": "code",
   "execution_count": 1,
   "id": "7ab0b9d2",
   "metadata": {},
   "outputs": [],
   "source": [
    "# pre-defined functions\n",
    "# -print()\n",
    "# -int()\n",
    "# -set()\n",
    "# -list()\n",
    "# -input()"
   ]
  },
  {
   "cell_type": "code",
   "execution_count": 2,
   "id": "e5d1d4a6",
   "metadata": {},
   "outputs": [],
   "source": [
    "# # user defined function\n",
    "# def <function_name>():\n",
    "#     <operations>\n",
    "    \n",
    "# function_name()"
   ]
  },
  {
   "cell_type": "code",
   "execution_count": 3,
   "id": "a16139be",
   "metadata": {},
   "outputs": [
    {
     "name": "stdout",
     "output_type": "stream",
     "text": [
      "hello world\n"
     ]
    }
   ],
   "source": [
    "def hello():\n",
    "    print(\"hello world\")\n",
    "    \n",
    "hello()"
   ]
  },
  {
   "cell_type": "code",
   "execution_count": 5,
   "id": "e4c175da",
   "metadata": {},
   "outputs": [
    {
     "name": "stdout",
     "output_type": "stream",
     "text": [
      "Enter l = 4\n",
      "Enter b = 5\n",
      "20\n"
     ]
    }
   ],
   "source": [
    "def cal():\n",
    "    l = int(input(\"Enter l = \")) #local variable\n",
    "    b = int(input(\"Enter b = \")) #local variable cannot be used outside the function\n",
    "    a = l*b\n",
    "    print(a)\n",
    "cal()"
   ]
  },
  {
   "cell_type": "code",
   "execution_count": 7,
   "id": "ed9b5c08",
   "metadata": {},
   "outputs": [
    {
     "name": "stdout",
     "output_type": "stream",
     "text": [
      "Enter l = 6\n",
      "Enter b = 7\n",
      "42\n"
     ]
    }
   ],
   "source": [
    "l = int(input(\"Enter l = \")) #global variable\n",
    "b = int(input(\"Enter b = \")) #global variable can be used outside the function\n",
    "def cal():\n",
    "    a = l*b\n",
    "    print(a)\n",
    "cal()"
   ]
  },
  {
   "cell_type": "code",
   "execution_count": 8,
   "id": "4f5d402e",
   "metadata": {},
   "outputs": [],
   "source": [
    "# function without argument and no return type\n",
    "# function with argument and no return type\n",
    "# funtion without argument and return type\n",
    "# function with argument and return type"
   ]
  },
  {
   "cell_type": "code",
   "execution_count": 10,
   "id": "486150b4",
   "metadata": {},
   "outputs": [
    {
     "name": "stdout",
     "output_type": "stream",
     "text": [
      "10\n"
     ]
    }
   ],
   "source": [
    "def cal(l,b): #l,b is a parameter\n",
    "    a = l*b\n",
    "    print(a)\n",
    "cal(5,2)    #5,2 is an argument"
   ]
  },
  {
   "cell_type": "code",
   "execution_count": 2,
   "id": "3db9f84a",
   "metadata": {},
   "outputs": [
    {
     "name": "stdout",
     "output_type": "stream",
     "text": [
      "Enter name : Sandip\n",
      "Enter age : 18\n",
      "Enter address : Kadaghari\n",
      "Hello World I am Sandip. I am from Kadaghari. I am 18\n"
     ]
    }
   ],
   "source": [
    "def info(x,y,z):\n",
    "    print(f\"Hello World I am {x}. I am from {z}. I am {y}\")\n",
    "\n",
    "name = input(\"Enter name : \")\n",
    "age = int(input(\"Enter age : \"))\n",
    "add = input(\"Enter address : \")\n",
    "\n",
    "info(name,age,add)"
   ]
  },
  {
   "cell_type": "code",
   "execution_count": 5,
   "id": "00744b60",
   "metadata": {},
   "outputs": [
    {
     "name": "stdout",
     "output_type": "stream",
     "text": [
      "Enter a =2\n",
      "Enter b =3\n",
      "Enter a operater(+,-,/,*):+\n",
      "5\n"
     ]
    }
   ],
   "source": [
    "def cal(a,b,o):\n",
    "  if(o==\"+\"):\n",
    "    print(a+b)\n",
    "  elif(o==\"-\"):\n",
    "    print(a-a)\n",
    "  elif(o==\"/\"):\n",
    "    print(a/b)\n",
    "  elif(o==\"*\"):\n",
    "    print(a*b)\n",
    "  else:\n",
    "    print('Enter a valid operator')\n",
    "a = int(input(\"Enter a =\"))\n",
    "b = int(input(\"Enter b =\"))\n",
    "o = (input(\"Enter a operater(+,-,/,*):\"))\n",
    "cal(a,b,o)"
   ]
  },
  {
   "cell_type": "code",
   "execution_count": 6,
   "id": "90a28fb1",
   "metadata": {},
   "outputs": [
    {
     "name": "stdout",
     "output_type": "stream",
     "text": [
      "Enter your nameSandip\n",
      "Enter your marks in English.99\n",
      "Enter your marks in Maths.98\n",
      "Enter your marks in Science.97\n",
      "Enter your marks in Nepali.96\n",
      " total marks of Sandip = 390\n",
      " percentage of Sandip = 130.0\n",
      " Grade of Sandip = A\n"
     ]
    }
   ],
   "source": [
    "def result(info):\n",
    "    t = sum(info[1:])\n",
    "    p = t/3\n",
    "    if(p>=80):\n",
    "        grade= \"A\"\n",
    "    elif(p>=60):\n",
    "        grade = \"B\"\n",
    "    elif(p>=40):\n",
    "        grade = \"C\"\n",
    "    else:\n",
    "        grade = \"D\"\n",
    "    print(\" total marks of \"+n+\" =\",t)\n",
    "    print(\" percentage of \" +n+ \" =\", p)\n",
    "    print(\" Grade of \" +n+ \" =\",grade)\n",
    "\n",
    "n = input(\"Enter your name\") \n",
    "a = int(input(\"Enter your marks in English.\"))\n",
    "b = int(input(\"Enter your marks in Maths.\"))\n",
    "c = int(input(\"Enter your marks in Science.\"))\n",
    "d = int(input(\"Enter your marks in Nepali.\"))\n",
    "info = [n,a,b,c,d]\n",
    "result(info)"
   ]
  },
  {
   "cell_type": "code",
   "execution_count": null,
   "id": "b69767b5",
   "metadata": {},
   "outputs": [],
   "source": []
  }
 ],
 "metadata": {
  "kernelspec": {
   "display_name": "Python 3 (ipykernel)",
   "language": "python",
   "name": "python3"
  },
  "language_info": {
   "codemirror_mode": {
    "name": "ipython",
    "version": 3
   },
   "file_extension": ".py",
   "mimetype": "text/x-python",
   "name": "python",
   "nbconvert_exporter": "python",
   "pygments_lexer": "ipython3",
   "version": "3.11.5"
  }
 },
 "nbformat": 4,
 "nbformat_minor": 5
}
