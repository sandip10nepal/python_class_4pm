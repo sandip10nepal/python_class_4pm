{
 "cells": [
  {
   "cell_type": "code",
   "execution_count": 1,
   "id": "c5c1ea16",
   "metadata": {},
   "outputs": [],
   "source": [
    "# if <condition>\n",
    "#    <operation>\n",
    "#elif <condition>\n",
    "#    <operation>\n",
    "#elif <condition>\n",
    "#     <operation>\n",
    "#else\n",
    "#     <operation>           "
   ]
  },
  {
   "cell_type": "code",
   "execution_count": 2,
   "id": "488febd5",
   "metadata": {},
   "outputs": [
    {
     "name": "stdout",
     "output_type": "stream",
     "text": [
      "Enter a number =11\n",
      "11 is an odd number\n"
     ]
    }
   ],
   "source": [
    "a = int(input(\"Enter a number =\"))\n",
    "if(a%2==0):\n",
    "    print(a,\"is an even number\")\n",
    "else:\n",
    "    print(a,\"is an odd number\")"
   ]
  },
  {
   "cell_type": "code",
   "execution_count": 4,
   "id": "81665676",
   "metadata": {},
   "outputs": [
    {
     "name": "stdout",
     "output_type": "stream",
     "text": [
      "Enter a number =-10\n",
      "-10 is a negative number\n"
     ]
    }
   ],
   "source": [
    "a = int(input(\"Enter a number =\"))\n",
    "if(a>=0):\n",
    "    print(a,\"is a positive number\")\n",
    "else:\n",
    "    print(a,\"is a negative number\")"
   ]
  },
  {
   "cell_type": "code",
   "execution_count": 6,
   "id": "837df570",
   "metadata": {},
   "outputs": [
    {
     "name": "stdout",
     "output_type": "stream",
     "text": [
      "Enter a =10\n",
      "Enter a =10\n",
      "10 and 10 are equal\n"
     ]
    }
   ],
   "source": [
    "a = int(input(\"Enter a =\"))\n",
    "b = int(input(\"Enter b =\"))\n",
    "\n",
    "if(a>b):\n",
    "    print(a,\"is greater than\",b)\n",
    "elif(b>a):\n",
    "    print(b,\"is greater than\",a)\n",
    "else:\n",
    "    print(a,\"and\",b,\"are equal\")"
   ]
  },
  {
   "cell_type": "code",
   "execution_count": 7,
   "id": "0fb6d8ca",
   "metadata": {},
   "outputs": [
    {
     "name": "stdout",
     "output_type": "stream",
     "text": [
      "Enter your nameSandip\n",
      "Enter your marks in English.98\n",
      "Enter your marks in Maths.99\n",
      "Enter your marks in Science.97\n",
      "Enter your marks in Nepali.95\n",
      " total marks of Sandip is 294\n",
      " percentage of Sandip is 98.0\n",
      " Grade of Sandip is A\n"
     ]
    }
   ],
   "source": [
    "n = input(\"Enter your name\") \n",
    "a = int(input(\"Enter your marks in English.\"))\n",
    "b = int(input(\"Enter your marks in Maths.\"))\n",
    "c = int(input(\"Enter your marks in Science.\"))\n",
    "d = int(input(\"Enter your marks in Nepali.\"))\n",
    "t = a+b+c\n",
    "p = t/3\n",
    "if(p>=80):\n",
    "    grade= \"A\"\n",
    "elif(p>=60):\n",
    "    grade = \"B\"\n",
    "elif(p>=40):\n",
    "    grade = \"C\"\n",
    "else:\n",
    "    grade = \"D\"\n",
    "print(\" total marks of \"+n+\" =\",t)\n",
    "print(\" percentage of \" +n+ \" =\", p)\n",
    "print(\" Grade of \" +n+ \" =\",grade)"
   ]
  },
  {
   "cell_type": "code",
   "execution_count": 9,
   "id": "3e986a37",
   "metadata": {},
   "outputs": [
    {
     "name": "stdout",
     "output_type": "stream",
     "text": [
      "Enter a =20\n",
      "Enter b =67\n",
      "Enter a operater(+,-,/,*):*\n",
      "1340\n"
     ]
    }
   ],
   "source": [
    "a = int(input(\"Enter a =\"))\n",
    "b = int(input(\"Enter b =\"))\n",
    "o = (input(\"Enter a operater(+,-,/,*):\"))\n",
    "\n",
    "if(o==\"+\"):\n",
    "    print(a+b)\n",
    "elif(o==\"-\"):\n",
    "    print(a-a)\n",
    "elif(o==\"/\"):\n",
    "    print(a/b)\n",
    "elif(o==\"*\"):\n",
    "    print(a*b)"
   ]
  },
  {
   "cell_type": "code",
   "execution_count": 14,
   "id": "3904e124",
   "metadata": {},
   "outputs": [
    {
     "name": "stdout",
     "output_type": "stream",
     "text": [
      "Enter a =10\n",
      "Enter b =0\n",
      "Enter a operater(+,-,/,*):/\n",
      "b cannot be zero\n"
     ]
    }
   ],
   "source": [
    "a = int(input(\"Enter a =\"))\n",
    "b = int(input(\"Enter b =\"))\n",
    "o = (input(\"Enter a operater(+,-,/,*):\"))\n",
    "\n",
    "if(o==\"+\"):\n",
    "    print(a+b)\n",
    "elif(o==\"-\"):\n",
    "    print(a-a)\n",
    "elif(o==\"/\"):\n",
    "    if(b != 0):\n",
    "        print(a/b)\n",
    "    else:\n",
    "        print(\"b cannot be zero\")\n",
    "elif(o==\"*\"):\n",
    "    print(a*b)"
   ]
  },
  {
   "cell_type": "code",
   "execution_count": 15,
   "id": "7b6e8a4c",
   "metadata": {},
   "outputs": [],
   "source": [
    "# logical operator\n",
    "# and or not"
   ]
  },
  {
   "cell_type": "code",
   "execution_count": 16,
   "id": "3e616282",
   "metadata": {},
   "outputs": [
    {
     "name": "stdout",
     "output_type": "stream",
     "text": [
      "True\n",
      "False\n",
      "False\n",
      "False\n"
     ]
    }
   ],
   "source": [
    "#and\n",
    "print(True and True)\n",
    "print(True and False)\n",
    "print(False and False)\n",
    "print(False and True)\n"
   ]
  },
  {
   "cell_type": "code",
   "execution_count": 17,
   "id": "81024a6b",
   "metadata": {},
   "outputs": [
    {
     "name": "stdout",
     "output_type": "stream",
     "text": [
      "True\n",
      "True\n",
      "False\n",
      "True\n"
     ]
    }
   ],
   "source": [
    "#or\n",
    "print(True or True)\n",
    "print(True or False)\n",
    "print(False or False)\n",
    "print(False or True)"
   ]
  },
  {
   "cell_type": "code",
   "execution_count": 18,
   "id": "f5c68c2d",
   "metadata": {},
   "outputs": [
    {
     "name": "stdout",
     "output_type": "stream",
     "text": [
      "False\n",
      "True\n"
     ]
    }
   ],
   "source": [
    "print( not True)\n",
    "print( not False)\n"
   ]
  },
  {
   "cell_type": "code",
   "execution_count": 19,
   "id": "56f85dbc",
   "metadata": {},
   "outputs": [
    {
     "name": "stdout",
     "output_type": "stream",
     "text": [
      "Enter a =10\n",
      "Enter b =0\n",
      "Enter a operater(+,-,/,*):/\n",
      "the value of b cannot be 0\n"
     ]
    }
   ],
   "source": [
    "a = int(input(\"Enter a =\"))\n",
    "b = int(input(\"Enter b =\"))\n",
    "o = (input(\"Enter a operater(+,-,/,*):\"))\n",
    "\n",
    "if(o==\"+\"):\n",
    "    print(a+b)\n",
    "elif(o==\"-\"):\n",
    "    print(a-a)\n",
    "elif(o==\"/\" and b != 0):\n",
    "    print(a/b)\n",
    "elif(o==\"/\" and b == 0):\n",
    "    print(\"the value of b cannot be 0\")  \n",
    "elif(o==\"*\"):\n",
    "    print(a*b)\n",
    "else:\n",
    "    print(\"Enter a valid operator\")"
   ]
  },
  {
   "cell_type": "code",
   "execution_count": 20,
   "id": "b9870d24",
   "metadata": {},
   "outputs": [
    {
     "name": "stdout",
     "output_type": "stream",
     "text": [
      "Enter address = kathmandu\n",
      "Enter your age = 18\n",
      "Welcome to the event\n"
     ]
    }
   ],
   "source": [
    "address = input(\"Enter address = \")\n",
    "age = int(input(\"Enter your age = \"))\n",
    "if(address==\"kathmandu\" or age>20):\n",
    "    print(\"Welcome to the event\")\n",
    "else:\n",
    "    print(\"sorry\")"
   ]
  },
  {
   "cell_type": "code",
   "execution_count": 4,
   "id": "838e24bf",
   "metadata": {},
   "outputs": [
    {
     "name": "stdout",
     "output_type": "stream",
     "text": [
      "C\n",
      "C++\n",
      "c#\n",
      "Java\n",
      "Python\n"
     ]
    }
   ],
   "source": [
    "def language(lan = \"Python\"):\n",
    "    print(lan)\n",
    "    \n",
    "language(\"C\")\n",
    "language(\"C++\")\n",
    "language(\"c#\")\n",
    "language(\"Java\")\n",
    "language()"
   ]
  },
  {
   "cell_type": "code",
   "execution_count": 6,
   "id": "28fa14d7",
   "metadata": {},
   "outputs": [
    {
     "name": "stdout",
     "output_type": "stream",
     "text": [
      "15\n",
      "10\n"
     ]
    }
   ],
   "source": [
    "def area(l,b = 2):\n",
    "    a = l*b\n",
    "    print(a)\n",
    "    \n",
    "area(5,3)\n",
    "area(5)"
   ]
  },
  {
   "cell_type": "code",
   "execution_count": 7,
   "id": "c277f5e2",
   "metadata": {},
   "outputs": [],
   "source": [
    "#return type function\n"
   ]
  },
  {
   "cell_type": "code",
   "execution_count": 9,
   "id": "450ed9dd",
   "metadata": {},
   "outputs": [
    {
     "name": "stdout",
     "output_type": "stream",
     "text": [
      "10\n"
     ]
    }
   ],
   "source": [
    "def area(l,b):\n",
    "    a = l*b\n",
    "    return a\n",
    "\n",
    "print(area(5,2))"
   ]
  },
  {
   "cell_type": "code",
   "execution_count": null,
   "id": "168c15b1",
   "metadata": {},
   "outputs": [],
   "source": []
  }
 ],
 "metadata": {
  "kernelspec": {
   "display_name": "Python 3 (ipykernel)",
   "language": "python",
   "name": "python3"
  },
  "language_info": {
   "codemirror_mode": {
    "name": "ipython",
    "version": 3
   },
   "file_extension": ".py",
   "mimetype": "text/x-python",
   "name": "python",
   "nbconvert_exporter": "python",
   "pygments_lexer": "ipython3",
   "version": "3.11.5"
  }
 },
 "nbformat": 4,
 "nbformat_minor": 5
}
