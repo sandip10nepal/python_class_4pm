{
 "cells": [
  {
   "cell_type": "code",
   "execution_count": 2,
   "id": "25e8e82a",
   "metadata": {},
   "outputs": [
    {
     "name": "stdout",
     "output_type": "stream",
     "text": [
      "<class 'str'>\n"
     ]
    }
   ],
   "source": [
    "s = \"Hello World\"\n",
    "print(type(s))"
   ]
  },
  {
   "cell_type": "code",
   "execution_count": 4,
   "id": "3ffcc96c",
   "metadata": {},
   "outputs": [
    {
     "name": "stdout",
     "output_type": "stream",
     "text": [
      "<class 'str'> <class 'str'> <class 'str'>\n"
     ]
    }
   ],
   "source": [
    "a = \"Hello World\"\n",
    "b = '''Hello World'''\n",
    "c = 'Hello World'\n",
    "print(type(a),type(b),type(c))"
   ]
  },
  {
   "cell_type": "code",
   "execution_count": 6,
   "id": "307fb330",
   "metadata": {},
   "outputs": [
    {
     "name": "stdout",
     "output_type": "stream",
     "text": [
      "Hello World\n"
     ]
    }
   ],
   "source": [
    "a = \"Hello\"\n",
    "b = \" World\"\n",
    "c = a+b\n",
    "print(c)\n"
   ]
  },
  {
   "cell_type": "code",
   "execution_count": 7,
   "id": "95b24448",
   "metadata": {},
   "outputs": [
    {
     "name": "stdout",
     "output_type": "stream",
     "text": [
      "Hello WorldHello World\n"
     ]
    }
   ],
   "source": [
    "print(c*2)"
   ]
  },
  {
   "cell_type": "code",
   "execution_count": 8,
   "id": "1eefb86e",
   "metadata": {},
   "outputs": [
    {
     "name": "stdout",
     "output_type": "stream",
     "text": [
      "H e l l o   W o r l d "
     ]
    }
   ],
   "source": [
    "a =\"Hello World\"\n",
    "for i in a :\n",
    "    print(i, end= \" \")"
   ]
  },
  {
   "cell_type": "code",
   "execution_count": 11,
   "id": "8b60f686",
   "metadata": {},
   "outputs": [
    {
     "name": "stdout",
     "output_type": "stream",
     "text": [
      "H\n",
      "Hello\n",
      "HloWr\n"
     ]
    }
   ],
   "source": [
    "a =\"Hello World I am python\"\n",
    "print(a[0])\n",
    "print(a[0:5])\n",
    "print(a[0:10:2])"
   ]
  },
  {
   "cell_type": "code",
   "execution_count": 12,
   "id": "864ed3b6",
   "metadata": {},
   "outputs": [
    {
     "name": "stdout",
     "output_type": "stream",
     "text": [
      "Hello\n"
     ]
    }
   ],
   "source": [
    "a =\"Hello World I am python\"\n",
    "b = a[0:5]\n",
    "print(b)"
   ]
  },
  {
   "cell_type": "code",
   "execution_count": 2,
   "id": "0bb15e5d",
   "metadata": {},
   "outputs": [
    {
     "name": "stdout",
     "output_type": "stream",
     "text": [
      "nohtyp\n"
     ]
    }
   ],
   "source": [
    "a = \"python\"\n",
    "print(a[::-1])"
   ]
  },
  {
   "cell_type": "code",
   "execution_count": 4,
   "id": "dd0e8501",
   "metadata": {},
   "outputs": [
    {
     "name": "stdout",
     "output_type": "stream",
     "text": [
      "Nohtyp\n"
     ]
    }
   ],
   "source": [
    "a = \"pythoN\"\n",
    "print(a[-1:-7:-1])"
   ]
  },
  {
   "cell_type": "code",
   "execution_count": 5,
   "id": "5648a04b",
   "metadata": {},
   "outputs": [
    {
     "name": "stdout",
     "output_type": "stream",
     "text": [
      "0\n",
      "1\n",
      "2\n",
      "3\n",
      "4\n",
      "5\n"
     ]
    }
   ],
   "source": [
    "a = \"Python\"\n",
    "l = len(a)\n",
    "for i in range(l):\n",
    "    print(i)"
   ]
  },
  {
   "cell_type": "code",
   "execution_count": 6,
   "id": "2298e063",
   "metadata": {},
   "outputs": [
    {
     "name": "stdout",
     "output_type": "stream",
     "text": [
      "Python"
     ]
    }
   ],
   "source": [
    "i = 0\n",
    "a = \"Python\"\n",
    "l = len(a)\n",
    "while i<l:\n",
    "    print(a[i],end=\"\")\n",
    "    i+=1"
   ]
  },
  {
   "cell_type": "code",
   "execution_count": 9,
   "id": "69cdf3ed",
   "metadata": {},
   "outputs": [],
   "source": [
    "#Write a program to create a billing System \n",
    "# Name =?\n",
    "# price =?\n",
    "# qty =?\n",
    "# total =?\n"
   ]
  },
  {
   "cell_type": "code",
   "execution_count": null,
   "id": "5b1541f8",
   "metadata": {},
   "outputs": [
    {
     "name": "stdout",
     "output_type": "stream",
     "text": [
      "Enter the product Name = Chiya\n",
      "Enter the price = 30\n",
      "Enter the quantity = 1\n",
      "Do You have more Goods (y/n): y\n",
      "Name\t Price\t Qty\t Total\t\n",
      "Chiya\t 30\t 1\t 30\n",
      "Enter the product Name = Samosa\n",
      "Enter the price = 25\n",
      "Enter the quantity = 1\n",
      "Do You have more Goods (y/n): y\n",
      "Name\t Price\t Qty\t Total\t\n",
      "Samosa\t 25\t 1\t 25\n"
     ]
    }
   ],
   "source": [
    "j = 0\n",
    "while j < 1:\n",
    "    n = input(\"Enter the product Name = \")\n",
    "    p = int(input(\"Enter the price = \"))\n",
    "    q = int(input(\"Enter the quantity = \"))\n",
    "    t = p * q\n",
    "    i = input(\"Do You have more Goods (y/n): \")\n",
    "    if i.lower() == \"y\":\n",
    "        j = 0\n",
    "    else:\n",
    "        j += 1\n",
    "\n",
    "    print(\"Name\\t Price\\t Qty\\t Total\\t\")\n",
    "    print(f\"{n}\\t {p}\\t {q}\\t {t}\")\n"
   ]
  },
  {
   "cell_type": "code",
   "execution_count": 2,
   "id": "23e89160",
   "metadata": {},
   "outputs": [
    {
     "name": "stdout",
     "output_type": "stream",
     "text": [
      "Enter the product Name = Chiya\n",
      "Enter the price = 30\n",
      "Enter the quantity = 1\n",
      "Do You have more Goods (y/n): y\n",
      "Enter the product Name = Samosa\n",
      "Enter the price = 25\n",
      "Enter the quantity = 2\n",
      "Do You have more Goods (y/n): y\n",
      "Enter the product Name = Pakoda\n",
      "Enter the price = 5\n",
      "Enter the quantity = 10\n",
      "Do You have more Goods (y/n): y\n",
      "Enter the product Name = Brfi\n",
      "Enter the price = 20\n",
      "Enter the quantity = 3\n",
      "Do You have more Goods (y/n): y\n",
      "Enter the product Name = jeri \n",
      "Enter the price = 10\n",
      "Enter the quantity = 10\n",
      "Do You have more Goods (y/n): n\n",
      "Name\t Price\t Qty\t Total\t\n",
      "Chiya\t 30\t 1\t 30\n",
      "Samosa\t 25\t 2\t 50\n",
      "Pakoda\t 5\t 10\t 50\n",
      "Brfi\t 20\t 3\t 60\n",
      "jeri \t 10\t 10\t 100\n",
      "Grand Total: 290\n"
     ]
    }
   ],
   "source": [
    "j = 0\n",
    "total_items = []\n",
    "\n",
    "while j < 1:\n",
    "    n = input(\"Enter the product Name = \")\n",
    "    p = int(input(\"Enter the price = \"))\n",
    "    q = int(input(\"Enter the quantity = \"))\n",
    "    t = p * q\n",
    "    total_items.append((n, p, q, t))  # Store the data for each item\n",
    "    i = input(\"Do You have more Goods (y/n): \")\n",
    "    if i.lower() == \"y\":\n",
    "        j = 0\n",
    "    else:\n",
    "        j += 1\n",
    "\n",
    "# Print the summary after the loop\n",
    "print(\"Name\\t Price\\t Qty\\t Total\\t\")\n",
    "for item in total_items:\n",
    "    print(f\"{item[0]}\\t {item[1]}\\t {item[2]}\\t {item[3]}\")\n",
    "grand_total = sum(item[3] for item in total_items)\n",
    "print(f\"Grand Total: {grand_total}\")"
   ]
  },
  {
   "cell_type": "code",
   "execution_count": 5,
   "id": "5177cd20",
   "metadata": {},
   "outputs": [
    {
     "name": "stdout",
     "output_type": "stream",
     "text": [
      "Enter n =2\n",
      "Enter the product Name = Samosa\n",
      "Enter the price = 30\n",
      "Enter the quantity = 2\n",
      "Enter the product Name = Chiya\n",
      "Enter the price = 25\n",
      "Enter the quantity = 4\n",
      "Samosa 30 2 60\n",
      "Chiya 25 4 100\n",
      "\n"
     ]
    }
   ],
   "source": [
    "info = \"\"\n",
    "n = int(input(\"Enter n =\"))\n",
    "for i in range(n):\n",
    "    n = input(\"Enter the product Name = \")\n",
    "    p = int(input(\"Enter the price = \"))\n",
    "    q = int(input(\"Enter the quantity = \"))\n",
    "    t = p * q\n",
    "    info = info + f\"{n} {p} {q} {t}\\n\"\n",
    "    \n",
    "print(info)"
   ]
  },
  {
   "cell_type": "code",
   "execution_count": null,
   "id": "1ff7f7b0",
   "metadata": {
    "scrolled": true
   },
   "outputs": [],
   "source": []
  },
  {
   "cell_type": "code",
   "execution_count": null,
   "id": "bbb62b45",
   "metadata": {},
   "outputs": [],
   "source": []
  }
 ],
 "metadata": {
  "kernelspec": {
   "display_name": "Python 3 (ipykernel)",
   "language": "python",
   "name": "python3"
  },
  "language_info": {
   "codemirror_mode": {
    "name": "ipython",
    "version": 3
   },
   "file_extension": ".py",
   "mimetype": "text/x-python",
   "name": "python",
   "nbconvert_exporter": "python",
   "pygments_lexer": "ipython3",
   "version": "3.11.5"
  }
 },
 "nbformat": 4,
 "nbformat_minor": 5
}
