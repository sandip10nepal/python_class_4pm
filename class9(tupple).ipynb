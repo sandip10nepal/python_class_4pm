{
 "cells": [
  {
   "cell_type": "code",
   "execution_count": 1,
   "id": "0bcbc429",
   "metadata": {},
   "outputs": [],
   "source": [
    "# tupple\n",
    "# -Indexing\n",
    "# -ordered\n",
    "# -Multiple and duplicate\n",
    "# -Immutable\n"
   ]
  },
  {
   "cell_type": "code",
   "execution_count": 2,
   "id": "4799f67d",
   "metadata": {},
   "outputs": [],
   "source": [
    "# a = tupple() {tupple is immutable and should be used with small brackets}"
   ]
  },
  {
   "cell_type": "code",
   "execution_count": 3,
   "id": "c07a0a28",
   "metadata": {},
   "outputs": [
    {
     "name": "stdout",
     "output_type": "stream",
     "text": [
      "(1, 2, 3, 4, 5)\n",
      "('Apple', 'Ball', 'Cat', 'Apple')\n",
      "<class 'tuple'>\n",
      "<class 'tuple'>\n"
     ]
    }
   ],
   "source": [
    "a = (1,2,3,4,5)\n",
    "b = (\"Apple\",\"Ball\",\"Cat\",\"Apple\")\n",
    "print(a)\n",
    "print(b)\n",
    "print(type(a))\n",
    "print(type(b))\n"
   ]
  },
  {
   "cell_type": "code",
   "execution_count": 4,
   "id": "3a06a28f",
   "metadata": {},
   "outputs": [],
   "source": [
    "# We cannot use \n",
    "# -append()\n",
    "# -extend()\n",
    "# -insert()\n",
    "# -Update()\n",
    "# -sort()\n",
    "# {it is used to store static data}"
   ]
  },
  {
   "cell_type": "code",
   "execution_count": 7,
   "id": "f752423c",
   "metadata": {},
   "outputs": [
    {
     "name": "stdout",
     "output_type": "stream",
     "text": [
      "('Apple', 1, 2, 3, 4, 5, 6)\n"
     ]
    }
   ],
   "source": [
    "a = (\"Apple\",)\n",
    "b = (1,2,3)\n",
    "d = (4,5,6)\n",
    "c = a+b+d\n",
    "\n",
    "print(c)\n"
   ]
  },
  {
   "cell_type": "code",
   "execution_count": 9,
   "id": "0102c207",
   "metadata": {},
   "outputs": [],
   "source": [
    "# We can create tupple by \n",
    "# - Concatination"
   ]
  },
  {
   "cell_type": "code",
   "execution_count": 10,
   "id": "f3c2e3ec",
   "metadata": {},
   "outputs": [
    {
     "name": "stdout",
     "output_type": "stream",
     "text": [
      "Enter n = 4\n",
      "Enter x =1\n",
      "Enter x =2\n",
      "Enter x =3\n",
      "Enter x =4\n",
      "(1, 2, 3, 4)\n"
     ]
    }
   ],
   "source": [
    "a = ()\n",
    "n = int(input(\"Enter n = \"))\n",
    "for i in range(n):\n",
    "    x = int(input(\"Enter x =\"))\n",
    "    a = a +(x,)\n",
    "    \n",
    "print(a)\n",
    "    "
   ]
  },
  {
   "cell_type": "code",
   "execution_count": 11,
   "id": "715313f7",
   "metadata": {},
   "outputs": [
    {
     "name": "stdout",
     "output_type": "stream",
     "text": [
      "1\n",
      "6\n",
      "21\n"
     ]
    }
   ],
   "source": [
    "# We can use functions like min() max() sum() index()\n",
    "a = (1, 2, 3, 4, 5, 6)\n",
    "print(min(a))\n",
    "print(max(a))\n",
    "print(sum(a))"
   ]
  },
  {
   "cell_type": "code",
   "execution_count": 12,
   "id": "e7437fd3",
   "metadata": {},
   "outputs": [
    {
     "name": "stdout",
     "output_type": "stream",
     "text": [
      "[2, 3, 4, 5, 6]\n"
     ]
    }
   ],
   "source": [
    "a = (1, 2, 3, 4, 5, 6)\n",
    "b = list(a)\n",
    "del b[0]\n",
    "print(b)"
   ]
  },
  {
   "cell_type": "markdown",
   "id": "e2a40cb4",
   "metadata": {},
   "source": [
    "tupple inside list"
   ]
  },
  {
   "cell_type": "code",
   "execution_count": 13,
   "id": "1dcf5e42",
   "metadata": {},
   "outputs": [
    {
     "name": "stdout",
     "output_type": "stream",
     "text": [
      "[(1, 2), (2, 3), (4, 5), (5, 6)]\n"
     ]
    }
   ],
   "source": [
    "a = [(1,2),(2,3),(4,5),(5,6)]\n",
    "print(a)"
   ]
  },
  {
   "cell_type": "markdown",
   "id": "f3cba272",
   "metadata": {},
   "source": [
    "list inside tupple"
   ]
  },
  {
   "cell_type": "code",
   "execution_count": 14,
   "id": "f4fb0817",
   "metadata": {},
   "outputs": [
    {
     "name": "stdout",
     "output_type": "stream",
     "text": [
      "([1, 2], [3, 4], [5, 6])\n"
     ]
    }
   ],
   "source": [
    "b = ([1,2],[3,4],[5,6])\n",
    "print(b)"
   ]
  },
  {
   "cell_type": "markdown",
   "id": "a69387cd",
   "metadata": {},
   "source": [
    "tupple inside tupple"
   ]
  },
  {
   "cell_type": "code",
   "execution_count": 15,
   "id": "a4d60431",
   "metadata": {},
   "outputs": [
    {
     "name": "stdout",
     "output_type": "stream",
     "text": [
      "((1, 2), (3, 4), (4, 5))\n"
     ]
    }
   ],
   "source": [
    "c = ((1,2),(3,4),(4,5))\n",
    "print(c)"
   ]
  },
  {
   "cell_type": "code",
   "execution_count": 1,
   "id": "90f69797",
   "metadata": {},
   "outputs": [
    {
     "name": "stdout",
     "output_type": "stream",
     "text": [
      "Enter n = 2\n",
      "Enter Name = Sandip\n",
      "Enter Address = Kathmandu\n",
      "Enter age = 18\n",
      "Enter Name = Sandesh\n",
      "Enter Address = Kadaghari\n",
      "Enter age = 12\n"
     ]
    }
   ],
   "source": [
    "n = int(input(\"Enter n = \"))\n",
    "people = ()\n",
    "for i in range(n):\n",
    "    x = input(\"Enter Name = \")\n",
    "    y = input(\"Enter Address = \")\n",
    "    z = int(input(\"Enter age = \"))\n",
    "    person_info = (x,y,z)\n",
    "    people += (person_info,)"
   ]
  },
  {
   "cell_type": "code",
   "execution_count": 2,
   "id": "cb96a10b",
   "metadata": {},
   "outputs": [
    {
     "name": "stdout",
     "output_type": "stream",
     "text": [
      "(('Sandip', 'Kathmandu', 18), ('Sandesh', 'Kadaghari', 12))\n"
     ]
    }
   ],
   "source": [
    "print(people)"
   ]
  },
  {
   "cell_type": "code",
   "execution_count": null,
   "id": "1c6fa875",
   "metadata": {},
   "outputs": [],
   "source": []
  }
 ],
 "metadata": {
  "kernelspec": {
   "display_name": "Python 3 (ipykernel)",
   "language": "python",
   "name": "python3"
  },
  "language_info": {
   "codemirror_mode": {
    "name": "ipython",
    "version": 3
   },
   "file_extension": ".py",
   "mimetype": "text/x-python",
   "name": "python",
   "nbconvert_exporter": "python",
   "pygments_lexer": "ipython3",
   "version": "3.11.5"
  }
 },
 "nbformat": 4,
 "nbformat_minor": 5
}
