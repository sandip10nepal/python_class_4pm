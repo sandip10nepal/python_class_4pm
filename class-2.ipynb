{
 "cells": [
  {
   "cell_type": "code",
   "execution_count": 1,
   "id": "5f7f1e66",
   "metadata": {},
   "outputs": [
    {
     "name": "stdout",
     "output_type": "stream",
     "text": [
      "Enter a =10\n",
      "10\n",
      "<class 'str'>\n"
     ]
    }
   ],
   "source": [
    "a = input(\"Enter a =\")\n",
    "print(a)\n",
    "print(type(a))"
   ]
  },
  {
   "cell_type": "code",
   "execution_count": 2,
   "id": "544122ba",
   "metadata": {},
   "outputs": [
    {
     "name": "stdout",
     "output_type": "stream",
     "text": [
      "Enter a=40\n",
      "40\n"
     ]
    },
    {
     "data": {
      "text/plain": [
       "int"
      ]
     },
     "execution_count": 2,
     "metadata": {},
     "output_type": "execute_result"
    }
   ],
   "source": [
    "a = int(input(\"Enter a=\"))\n",
    "print(a)\n",
    "type(a)"
   ]
  },
  {
   "cell_type": "code",
   "execution_count": 3,
   "id": "f30cc2b3",
   "metadata": {},
   "outputs": [],
   "source": [
    "#we can convert one data type to another data type by using int() , str(), float(), bool(), complex()"
   ]
  },
  {
   "cell_type": "code",
   "execution_count": 6,
   "id": "dae7750b",
   "metadata": {},
   "outputs": [
    {
     "name": "stdout",
     "output_type": "stream",
     "text": [
      "False\n",
      "0j\n"
     ]
    }
   ],
   "source": [
    "a = 0\n",
    "a = bool(a)\n",
    "print(a)\n",
    "b = complex(a)\n",
    "print(b)"
   ]
  },
  {
   "cell_type": "code",
   "execution_count": 14,
   "id": "3687780c",
   "metadata": {},
   "outputs": [
    {
     "name": "stdout",
     "output_type": "stream",
     "text": [
      "Enter name = Sandip\n",
      "Enter age = 18\n",
      "Enter add= Kadaghari\n",
      "Hello world I am Sandip. I am from Kadaghari. My age is18\n"
     ]
    }
   ],
   "source": [
    "name = input(\"Enter name = \")\n",
    "age = int(input(\"Enter age = \"))\n",
    "add = input(\"Enter add= \")\n",
    "\n",
    "info = \"Hello world I am \" + name +\". \" \"I am from \" +add+ \". My age is\"+ str(age)\n",
    "print(info)"
   ]
  },
  {
   "cell_type": "code",
   "execution_count": 22,
   "id": "8a53dba6",
   "metadata": {},
   "outputs": [
    {
     "name": "stdout",
     "output_type": "stream",
     "text": [
      "Enter your nameSandip\n",
      "Enter your marks in English.98\n",
      "Enter your marks in Maths.99\n",
      "Enter your marks in Science.100\n",
      " total marks of Sandip is 297\n",
      " percentage of Sandip is 99.0\n"
     ]
    }
   ],
   "source": [
    "n = input(\"Enter your name\") \n",
    "a = int(input(\"Enter your marks in English.\"))\n",
    "b = int(input(\"Enter your marks in Maths.\"))\n",
    "c = int(input(\"Enter your marks in Science.\"))\n",
    "t = a+b+c\n",
    "p = t/3\n",
    "print(\" total marks of \"+n+\" is\",t)\n",
    "print(\" percentage of \" +n+ \" is\", p)"
   ]
  },
  {
   "cell_type": "code",
   "execution_count": null,
   "id": "b0f9866a",
   "metadata": {},
   "outputs": [],
   "source": [
    "#comaprison operators are < > <= >= == !="
   ]
  },
  {
   "cell_type": "code",
   "execution_count": 23,
   "id": "c4557800",
   "metadata": {},
   "outputs": [
    {
     "name": "stdout",
     "output_type": "stream",
     "text": [
      "False\n"
     ]
    }
   ],
   "source": [
    "a = 10\n",
    "b = 2\n",
    "print(a<=b)"
   ]
  },
  {
   "cell_type": "code",
   "execution_count": 24,
   "id": "8f30d998",
   "metadata": {},
   "outputs": [
    {
     "name": "stdout",
     "output_type": "stream",
     "text": [
      "True\n"
     ]
    }
   ],
   "source": [
    "a=10\n",
    "b=10\n",
    "print(a==b)"
   ]
  },
  {
   "cell_type": "code",
   "execution_count": 25,
   "id": "ca9a9e3e",
   "metadata": {},
   "outputs": [
    {
     "name": "stdout",
     "output_type": "stream",
     "text": [
      "False\n"
     ]
    }
   ],
   "source": [
    "a=10\n",
    "b=10\n",
    "print(a!=b)"
   ]
  },
  {
   "cell_type": "code",
   "execution_count": null,
   "id": "7f5804e7",
   "metadata": {},
   "outputs": [],
   "source": []
  }
 ],
 "metadata": {
  "kernelspec": {
   "display_name": "Python 3 (ipykernel)",
   "language": "python",
   "name": "python3"
  },
  "language_info": {
   "codemirror_mode": {
    "name": "ipython",
    "version": 3
   },
   "file_extension": ".py",
   "mimetype": "text/x-python",
   "name": "python",
   "nbconvert_exporter": "python",
   "pygments_lexer": "ipython3",
   "version": "3.11.5"
  }
 },
 "nbformat": 4,
 "nbformat_minor": 5
}
